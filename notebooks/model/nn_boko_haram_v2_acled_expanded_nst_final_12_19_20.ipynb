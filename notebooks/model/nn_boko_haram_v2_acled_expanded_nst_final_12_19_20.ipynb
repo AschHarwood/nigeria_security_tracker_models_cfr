{
 "cells": [
  {
   "cell_type": "markdown",
   "metadata": {},
   "source": [
    "# Imports"
   ]
  },
  {
   "cell_type": "code",
   "execution_count": 1,
   "metadata": {},
   "outputs": [
    {
     "name": "stdout",
     "output_type": "stream",
     "text": [
      "Requirement already satisfied: tensorflow-hub in /anaconda/envs/tf23/lib/python3.8/site-packages (0.10.0)\n",
      "Requirement already satisfied: numpy>=1.12.0 in /anaconda/envs/tf23/lib/python3.8/site-packages (from tensorflow-hub) (1.19.2)\n",
      "Requirement already satisfied: protobuf>=3.8.0 in /anaconda/envs/tf23/lib/python3.8/site-packages (from tensorflow-hub) (3.13.0)\n",
      "Requirement already satisfied: six>=1.9 in /anaconda/envs/tf23/lib/python3.8/site-packages (from protobuf>=3.8.0->tensorflow-hub) (1.15.0)\n",
      "Requirement already satisfied: setuptools in /anaconda/envs/tf23/lib/python3.8/site-packages (from protobuf>=3.8.0->tensorflow-hub) (51.0.0.post20201207)\n",
      "Version:  2.2.0\n",
      "Eager mode:  True\n",
      "Hub version:  0.10.0\n",
      "GPU is available\n"
     ]
    }
   ],
   "source": [
    "from tensorflow.keras import regularizers\n",
    "\n",
    "from keras.layers import Dense, Flatten, LSTM, Conv1D, MaxPooling1D, Dropout, Activation\n",
    "\n",
    "import matplotlib.pyplot as plt\n",
    "\n",
    "%matplotlib inline\n",
    "\n",
    "import numpy as np\n",
    "from sklearn.model_selection import train_test_split\n",
    "\n",
    "\n",
    "#!pip install tensorflow-hub\n",
    "#!pip install tensorflow-datasets\n",
    "import tensorflow_hub as hub\n",
    "\n",
    "import tensorflow as tf\n",
    "\n",
    "print(\"Version: \", tf.__version__)\n",
    "print(\"Eager mode: \", tf.executing_eagerly())\n",
    "print(\"Hub version: \", hub.__version__)\n",
    "print(\"GPU is\", \"available\" if tf.config.experimental.list_physical_devices(\"GPU\") else \"NOT AVAILABLE\")\n",
    "\n",
    "import pandas as pd\n",
    "import numpy as np\n",
    "from sklearn.metrics import classification_report\n",
    "from sklearn.metrics import confusion_matrix\n"
   ]
  },
  {
   "cell_type": "markdown",
   "metadata": {},
   "source": [
    "# Reading Data"
   ]
  },
  {
   "cell_type": "code",
   "execution_count": 2,
   "metadata": {},
   "outputs": [],
   "source": [
    "#load text and target data\n",
    "df = pd.read_csv('/home/aschharwood/notebooks/NST/nst_ml/data/master_text/boko_haram_model/final_nst_acled_augmented_data_12.18.20.csv')\n",
    "\n",
    "#convert Boko Haram to binary\n",
    "df['bh_binary'] = np.where(df['boko haram']=='Boko Haram', 1, 0)\n",
    "\n",
    "#check balance of classes\n",
    "df['bh_binary'].value_counts()\n",
    "\n",
    "#remove the \"real data\" from training data set to be used as test set\n",
    "nst_sample = df[df['source']=='nst'].sample(n=10000)\n",
    "\n",
    "#check balance of classes in test set\n",
    "nst_sample['boko haram'].value_counts()\n",
    "\n",
    "#create training data set\n",
    "df_text_removed = df.drop(nst_sample.index)\n",
    "\n",
    "#shuffle training data\n",
    "df_text_removed = df_text_removed.sample(frac=1)\n",
    "\n",
    "#shuffled test data\n",
    "nst_sample = nst_sample.sample(frac=1)\n",
    "\n",
    "#create feature and target train and test sets\n",
    "X_train = df_text_removed['tokens'].astype(str)\n",
    "y_train = df_text_removed['bh_binary']\n",
    "\n",
    "X_test = nst_sample['tokens'].astype(str)\n",
    "y_test = nst_sample['bh_binary']"
   ]
  },
  {
   "cell_type": "markdown",
   "metadata": {},
   "source": [
    "# Build the model"
   ]
  },
  {
   "cell_type": "code",
   "execution_count": 3,
   "metadata": {},
   "outputs": [
    {
     "name": "stdout",
     "output_type": "stream",
     "text": [
      "Google news model downlownded\n"
     ]
    }
   ],
   "source": [
    "#download and set word vector pretrained model\n",
    "embedding = \"https://tfhub.dev/google/nnlm-en-dim128/2\"\n",
    "hub_layer = hub.KerasLayer(embedding, input_shape=[], dtype=tf.string, trainable=True)\n",
    "\n",
    "print('Google news model downlownded')"
   ]
  },
  {
   "cell_type": "code",
   "execution_count": 6,
   "metadata": {},
   "outputs": [
    {
     "name": "stdout",
     "output_type": "stream",
     "text": [
      "model defined and compiled\n"
     ]
    }
   ],
   "source": [
    "model = tf.keras.Sequential()\n",
    "model.add(hub_layer)\n",
    "model.add(tf.keras.layers.Dense(16, activation='relu'))\n",
    "model.add(tf.keras.layers.Dense(4, activation='relu'))\n",
    "model.add(tf.keras.layers.Dropout(0.5))\n",
    "model.add(tf.keras.layers.Dense(1))\n",
    "\n",
    "#compile model\n",
    "model.compile(optimizer='adam',\n",
    "             loss=tf.keras.losses.BinaryCrossentropy(from_logits=True),\n",
    "             metrics=['accuracy'])\n",
    "print('model defined and compiled')"
   ]
  },
  {
   "cell_type": "code",
   "execution_count": 6,
   "metadata": {},
   "outputs": [
    {
     "name": "stdout",
     "output_type": "stream",
     "text": [
      "Model: \"sequential\"\n",
      "_________________________________________________________________\n",
      "Layer (type)                 Output Shape              Param #   \n",
      "=================================================================\n",
      "keras_layer (KerasLayer)     (None, 128)               124642688 \n",
      "_________________________________________________________________\n",
      "dense (Dense)                (None, 16)                2064      \n",
      "_________________________________________________________________\n",
      "dense_1 (Dense)              (None, 8)                 136       \n",
      "_________________________________________________________________\n",
      "dense_2 (Dense)              (None, 4)                 36        \n",
      "_________________________________________________________________\n",
      "dropout (Dropout)            (None, 4)                 0         \n",
      "_________________________________________________________________\n",
      "dense_3 (Dense)              (None, 1)                 5         \n",
      "=================================================================\n",
      "Total params: 124,644,929\n",
      "Trainable params: 124,644,929\n",
      "Non-trainable params: 0\n",
      "_________________________________________________________________\n"
     ]
    }
   ],
   "source": [
    "#check the model\n",
    "model.summary()"
   ]
  },
  {
   "cell_type": "code",
   "execution_count": 7,
   "metadata": {},
   "outputs": [
    {
     "name": "stdout",
     "output_type": "stream",
     "text": [
      "training model\n",
      "Epoch 1/5\n",
      "1468/1468 [==============================] - 156s 106ms/step - loss: 0.3766 - accuracy: 0.8189 - val_loss: 0.4963 - val_accuracy: 0.8517\n",
      "Epoch 2/5\n",
      "1468/1468 [==============================] - 156s 106ms/step - loss: 0.2941 - accuracy: 0.8648 - val_loss: 0.4482 - val_accuracy: 0.8751\n",
      "Epoch 3/5\n",
      "1468/1468 [==============================] - 156s 106ms/step - loss: 0.2571 - accuracy: 0.8847 - val_loss: 0.5358 - val_accuracy: 0.8767\n",
      "Epoch 4/5\n",
      "1468/1468 [==============================] - 155s 106ms/step - loss: 0.2311 - accuracy: 0.8971 - val_loss: 0.5278 - val_accuracy: 0.8827\n",
      "Epoch 5/5\n",
      "1468/1468 [==============================] - 155s 106ms/step - loss: 0.2111 - accuracy: 0.9055 - val_loss: 0.6741 - val_accuracy: 0.8840\n",
      "model training complete\n"
     ]
    }
   ],
   "source": [
    "#train model\n",
    "print('training model')\n",
    "history = model.fit(X_train, y_train, epochs=5, verbose=1, validation_data=(X_test, y_test))\n",
    "print('model training complete')"
   ]
  },
  {
   "cell_type": "code",
   "execution_count": 8,
   "metadata": {},
   "outputs": [
    {
     "name": "stdout",
     "output_type": "stream",
     "text": [
      "WARNING:tensorflow:From /anaconda/envs/tf23/lib/python3.8/site-packages/tensorflow/python/ops/resource_variable_ops.py:1813: calling BaseResourceVariable.__init__ (from tensorflow.python.ops.resource_variable_ops) with constraint is deprecated and will be removed in a future version.\n",
      "Instructions for updating:\n",
      "If using Keras pass *_constraint arguments to layers.\n"
     ]
    },
    {
     "name": "stderr",
     "output_type": "stream",
     "text": [
      "WARNING:tensorflow:From /anaconda/envs/tf23/lib/python3.8/site-packages/tensorflow/python/ops/resource_variable_ops.py:1813: calling BaseResourceVariable.__init__ (from tensorflow.python.ops.resource_variable_ops) with constraint is deprecated and will be removed in a future version.\n",
      "Instructions for updating:\n",
      "If using Keras pass *_constraint arguments to layers.\n"
     ]
    },
    {
     "name": "stdout",
     "output_type": "stream",
     "text": [
      "INFO:tensorflow:Assets written to: /home/aschharwood/notebooks/NST/nst_ml/nst_boko_haram/assets\n"
     ]
    },
    {
     "name": "stderr",
     "output_type": "stream",
     "text": [
      "INFO:tensorflow:Assets written to: /home/aschharwood/notebooks/NST/nst_ml/nst_boko_haram/assets\n"
     ]
    }
   ],
   "source": [
    "#save the model\n",
    "model.save('/home/aschharwood/notebooks/NST/nst_ml/nst_boko_haram/')"
   ]
  },
  {
   "cell_type": "code",
   "execution_count": 9,
   "metadata": {},
   "outputs": [],
   "source": [
    "#generate predictions from test set\n",
    "test_pred = (model.predict(X_test) > 0.5).astype(\"int32\")"
   ]
  },
  {
   "cell_type": "code",
   "execution_count": 11,
   "metadata": {},
   "outputs": [
    {
     "name": "stdout",
     "output_type": "stream",
     "text": [
      "              precision    recall  f1-score   support\n",
      "\n",
      "           0       0.97      0.85      0.91      6783\n",
      "           1       0.76      0.95      0.84      3217\n",
      "\n",
      "    accuracy                           0.88     10000\n",
      "   macro avg       0.86      0.90      0.87     10000\n",
      "weighted avg       0.90      0.88      0.89     10000\n",
      "\n"
     ]
    }
   ],
   "source": [
    "#generate classification report on test data\n",
    "print(classification_report(y_test, test_pred))"
   ]
  },
  {
   "cell_type": "code",
   "execution_count": 13,
   "metadata": {},
   "outputs": [
    {
     "data": {
      "text/plain": [
       "array([[5798,  985],\n",
       "       [ 175, 3042]])"
      ]
     },
     "execution_count": 13,
     "metadata": {},
     "output_type": "execute_result"
    }
   ],
   "source": [
    "#check confusion matrix of predictions\n",
    "confusion_matrix(y_test, test_pred)"
   ]
  },
  {
   "cell_type": "code",
   "execution_count": 14,
   "metadata": {},
   "outputs": [],
   "source": [
    "#load saved model\n",
    "reloaded = tf.keras.models.load_model('/home/aschharwood/notebooks/NST/nst_ml/nst_boko_haram/')"
   ]
  },
  {
   "cell_type": "code",
   "execution_count": 15,
   "metadata": {},
   "outputs": [
    {
     "name": "stdout",
     "output_type": "stream",
     "text": [
      "Model: \"sequential_1\"\n",
      "_________________________________________________________________\n",
      "Layer (type)                 Output Shape              Param #   \n",
      "=================================================================\n",
      "keras_layer (KerasLayer)     (None, 128)               124642688 \n",
      "_________________________________________________________________\n",
      "dense_3 (Dense)              (None, 16)                2064      \n",
      "_________________________________________________________________\n",
      "dense_4 (Dense)              (None, 4)                 68        \n",
      "_________________________________________________________________\n",
      "dropout_1 (Dropout)          (None, 4)                 0         \n",
      "_________________________________________________________________\n",
      "dense_5 (Dense)              (None, 1)                 5         \n",
      "=================================================================\n",
      "Total params: 124,644,825\n",
      "Trainable params: 124,644,825\n",
      "Non-trainable params: 0\n",
      "_________________________________________________________________\n"
     ]
    }
   ],
   "source": [
    "#check summary\n",
    "reloaded.summary()"
   ]
  },
  {
   "cell_type": "code",
   "execution_count": 17,
   "metadata": {},
   "outputs": [],
   "source": [
    "#generate predictions from saved model\n",
    "test_pred = (reloaded.predict(X_test) > 0.5).astype(\"int32\")"
   ]
  },
  {
   "cell_type": "code",
   "execution_count": 18,
   "metadata": {},
   "outputs": [
    {
     "name": "stdout",
     "output_type": "stream",
     "text": [
      "              precision    recall  f1-score   support\n",
      "\n",
      "           0       0.97      0.85      0.91      6783\n",
      "           1       0.76      0.95      0.84      3217\n",
      "\n",
      "    accuracy                           0.88     10000\n",
      "   macro avg       0.86      0.90      0.87     10000\n",
      "weighted avg       0.90      0.88      0.89     10000\n",
      "\n"
     ]
    }
   ],
   "source": [
    "#check classification report\n",
    "print(classification_report(y_test, test_pred))"
   ]
  },
  {
   "cell_type": "code",
   "execution_count": 19,
   "metadata": {},
   "outputs": [],
   "source": [
    "#generate predictions from saved model for train set\n",
    "train_pred = (reloaded.predict(X_train) > 0.5).astype(\"int32\")"
   ]
  },
  {
   "cell_type": "code",
   "execution_count": 20,
   "metadata": {},
   "outputs": [
    {
     "name": "stdout",
     "output_type": "stream",
     "text": [
      "              precision    recall  f1-score   support\n",
      "\n",
      "           0       0.97      0.99      0.98     19325\n",
      "           1       1.00      0.98      0.99     27633\n",
      "\n",
      "    accuracy                           0.98     46958\n",
      "   macro avg       0.98      0.99      0.98     46958\n",
      "weighted avg       0.98      0.98      0.98     46958\n",
      "\n"
     ]
    }
   ],
   "source": [
    "print(classification_report(y_train, train_pred))"
   ]
  }
 ],
 "metadata": {
  "kernelspec": {
   "display_name": "tf23",
   "language": "python",
   "name": "conda-env-tf23-py"
  },
  "language_info": {
   "codemirror_mode": {
    "name": "ipython",
    "version": 3
   },
   "file_extension": ".py",
   "mimetype": "text/x-python",
   "name": "python",
   "nbconvert_exporter": "python",
   "pygments_lexer": "ipython3",
   "version": "3.8.5"
  }
 },
 "nbformat": 4,
 "nbformat_minor": 4
}
