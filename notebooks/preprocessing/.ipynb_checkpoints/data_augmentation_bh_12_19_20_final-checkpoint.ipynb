{
 "cells": [
  {
   "cell_type": "code",
   "execution_count": 2,
   "metadata": {},
   "outputs": [],
   "source": [
    "import nltk\n",
    "import pandas as pd\n",
    "import pickle\n",
    "from textaugment import Word2vec\n",
    "from textaugment import EDA\n",
    "nltk.download('wordnet')\n",
    "from textaugment import Wordnet"
   ]
  },
  {
   "cell_type": "code",
   "execution_count": 1,
   "metadata": {},
   "outputs": [],
   "source": [
    "nltk.download('punkt')\n",
    "nltk.download('averaged_perceptron_tagger')"
   ]
  },
  {
   "cell_type": "code",
   "execution_count": 8,
   "metadata": {},
   "outputs": [],
   "source": [
    "wv = pickle.load(open('/home/aschharwood/notebooks/NST/nst_ml/eda/google_news_gensim.pkl', 'rb'))"
   ]
  },
  {
   "cell_type": "code",
   "execution_count": 11,
   "metadata": {},
   "outputs": [],
   "source": [
    "#didn't end of using this one because it was much slower and didnt perform any better than wordnet\n",
    "t = Word2vec(model=wv)"
   ]
  },
  {
   "cell_type": "code",
   "execution_count": 21,
   "metadata": {},
   "outputs": [],
   "source": [
    "eda = EDA()"
   ]
  },
  {
   "cell_type": "code",
   "execution_count": null,
   "metadata": {},
   "outputs": [],
   "source": [
    "t = Wordnet(n=True)"
   ]
  },
  {
   "cell_type": "markdown",
   "metadata": {},
   "source": [
    "# Load text data"
   ]
  },
  {
   "cell_type": "code",
   "execution_count": 14,
   "metadata": {},
   "outputs": [],
   "source": [
    "df = pd.read_csv('/home/aschharwood/notebooks/NST/nst_ml/data/master_text/boko_haram_model/bh_model_acled_nst_12.18.20.csv')"
   ]
  },
  {
   "cell_type": "code",
   "execution_count": 15,
   "metadata": {},
   "outputs": [
    {
     "data": {
      "text/html": [
       "<div>\n",
       "<style scoped>\n",
       "    .dataframe tbody tr th:only-of-type {\n",
       "        vertical-align: middle;\n",
       "    }\n",
       "\n",
       "    .dataframe tbody tr th {\n",
       "        vertical-align: top;\n",
       "    }\n",
       "\n",
       "    .dataframe thead th {\n",
       "        text-align: right;\n",
       "    }\n",
       "</style>\n",
       "<table border=\"1\" class=\"dataframe\">\n",
       "  <thead>\n",
       "    <tr style=\"text-align: right;\">\n",
       "      <th></th>\n",
       "      <th>Unnamed: 0</th>\n",
       "      <th>text</th>\n",
       "      <th>boko haram</th>\n",
       "      <th>tokens</th>\n",
       "      <th>source</th>\n",
       "    </tr>\n",
       "  </thead>\n",
       "  <tbody>\n",
       "    <tr>\n",
       "      <th>0</th>\n",
       "      <td>0</td>\n",
       "      <td>Boko Haram jihadists have raided a military ba...</td>\n",
       "      <td>Boko Haram</td>\n",
       "      <td>insurgents raid military base borno kill injur...</td>\n",
       "      <td>nst</td>\n",
       "    </tr>\n",
       "    <tr>\n",
       "      <th>1</th>\n",
       "      <td>1</td>\n",
       "      <td>Mudiaga Affe, Calabar  No fewer than two perso...</td>\n",
       "      <td>Boko Haram</td>\n",
       "      <td>die injure cameroonian gendarme invade nigeria...</td>\n",
       "      <td>nst</td>\n",
       "    </tr>\n",
       "    <tr>\n",
       "      <th>2</th>\n",
       "      <td>2</td>\n",
       "      <td>Suspected militants have kidnapped four Britis...</td>\n",
       "      <td>Boko Haram</td>\n",
       "      <td>briton kidnap delta suspected militant kidnap ...</td>\n",
       "      <td>nst</td>\n",
       "    </tr>\n",
       "    <tr>\n",
       "      <th>3</th>\n",
       "      <td>3</td>\n",
       "      <td>ADVERTISEMENT  Abductors of Adetutu Adebanjo, ...</td>\n",
       "      <td>Boko Haram</td>\n",
       "      <td>kidnappers kogi polytechnic student demand ran...</td>\n",
       "      <td>nst</td>\n",
       "    </tr>\n",
       "    <tr>\n",
       "      <th>4</th>\n",
       "      <td>4</td>\n",
       "      <td>Kindly Share This Story:  By Marie-Therese Nan...</td>\n",
       "      <td>Boko Haram</td>\n",
       "      <td>dead 30 house destroy plateau attack kindly sh...</td>\n",
       "      <td>nst</td>\n",
       "    </tr>\n",
       "  </tbody>\n",
       "</table>\n",
       "</div>"
      ],
      "text/plain": [
       "   Unnamed: 0                                               text  boko haram  \\\n",
       "0           0  Boko Haram jihadists have raided a military ba...  Boko Haram   \n",
       "1           1  Mudiaga Affe, Calabar  No fewer than two perso...  Boko Haram   \n",
       "2           2  Suspected militants have kidnapped four Britis...  Boko Haram   \n",
       "3           3  ADVERTISEMENT  Abductors of Adetutu Adebanjo, ...  Boko Haram   \n",
       "4           4  Kindly Share This Story:  By Marie-Therese Nan...  Boko Haram   \n",
       "\n",
       "                                              tokens source  \n",
       "0  insurgents raid military base borno kill injur...    nst  \n",
       "1  die injure cameroonian gendarme invade nigeria...    nst  \n",
       "2  briton kidnap delta suspected militant kidnap ...    nst  \n",
       "3  kidnappers kogi polytechnic student demand ran...    nst  \n",
       "4  dead 30 house destroy plateau attack kindly sh...    nst  "
      ]
     },
     "execution_count": 15,
     "metadata": {},
     "output_type": "execute_result"
    }
   ],
   "source": [
    "df.head()"
   ]
  },
  {
   "cell_type": "code",
   "execution_count": 42,
   "metadata": {},
   "outputs": [],
   "source": [
    "nst = df[df['source']=='nst']"
   ]
  },
  {
   "cell_type": "code",
   "execution_count": 47,
   "metadata": {},
   "outputs": [],
   "source": [
    "bh = nst[nst['boko haram']== 'Boko Haram']"
   ]
  },
  {
   "cell_type": "code",
   "execution_count": 50,
   "metadata": {},
   "outputs": [
    {
     "name": "stderr",
     "output_type": "stream",
     "text": [
      "<ipython-input-50-ac281f0d448f>:1: SettingWithCopyWarning: \n",
      "A value is trying to be set on a copy of a slice from a DataFrame.\n",
      "Try using .loc[row_indexer,col_indexer] = value instead\n",
      "\n",
      "See the caveats in the documentation: https://pandas.pydata.org/pandas-docs/stable/user_guide/indexing.html#returning-a-view-versus-a-copy\n",
      "  bh['tokens_word_net_aug'] = nst['tokens'].apply(lambda x: t.augment(str(x)))\n"
     ]
    }
   ],
   "source": [
    "bh['tokens_word_net_aug'] = nst['tokens'].apply(lambda x: t.augment(str(x)))"
   ]
  },
  {
   "cell_type": "markdown",
   "metadata": {},
   "source": [
    "bh.head()"
   ]
  },
  {
   "cell_type": "code",
   "execution_count": 51,
   "metadata": {},
   "outputs": [
    {
     "data": {
      "text/html": [
       "<div>\n",
       "<style scoped>\n",
       "    .dataframe tbody tr th:only-of-type {\n",
       "        vertical-align: middle;\n",
       "    }\n",
       "\n",
       "    .dataframe tbody tr th {\n",
       "        vertical-align: top;\n",
       "    }\n",
       "\n",
       "    .dataframe thead th {\n",
       "        text-align: right;\n",
       "    }\n",
       "</style>\n",
       "<table border=\"1\" class=\"dataframe\">\n",
       "  <thead>\n",
       "    <tr style=\"text-align: right;\">\n",
       "      <th></th>\n",
       "      <th>Unnamed: 0</th>\n",
       "      <th>text</th>\n",
       "      <th>boko haram</th>\n",
       "      <th>tokens</th>\n",
       "      <th>source</th>\n",
       "      <th>tokens_word_net_aug</th>\n",
       "    </tr>\n",
       "  </thead>\n",
       "  <tbody>\n",
       "    <tr>\n",
       "      <th>0</th>\n",
       "      <td>0</td>\n",
       "      <td>Boko Haram jihadists have raided a military ba...</td>\n",
       "      <td>Boko Haram</td>\n",
       "      <td>insurgents raid military base borno kill injur...</td>\n",
       "      <td>nst</td>\n",
       "      <td>rebel raid military theme borno kill injure bo...</td>\n",
       "    </tr>\n",
       "    <tr>\n",
       "      <th>1</th>\n",
       "      <td>1</td>\n",
       "      <td>Mudiaga Affe, Calabar  No fewer than two perso...</td>\n",
       "      <td>Boko Haram</td>\n",
       "      <td>die injure cameroonian gendarme invade nigeria...</td>\n",
       "      <td>nst</td>\n",
       "      <td>die injure cameroonian gendarme invade nigeria...</td>\n",
       "    </tr>\n",
       "    <tr>\n",
       "      <th>2</th>\n",
       "      <td>2</td>\n",
       "      <td>Suspected militants have kidnapped four Britis...</td>\n",
       "      <td>Boko Haram</td>\n",
       "      <td>briton kidnap delta suspected militant kidnap ...</td>\n",
       "      <td>nst</td>\n",
       "      <td>brit kidnap delta suspected militant kidnap br...</td>\n",
       "    </tr>\n",
       "    <tr>\n",
       "      <th>3</th>\n",
       "      <td>3</td>\n",
       "      <td>ADVERTISEMENT  Abductors of Adetutu Adebanjo, ...</td>\n",
       "      <td>Boko Haram</td>\n",
       "      <td>kidnappers kogi polytechnic student demand ran...</td>\n",
       "      <td>nst</td>\n",
       "      <td>kidnaper kogi polytechnic bookman need ransom ...</td>\n",
       "    </tr>\n",
       "    <tr>\n",
       "      <th>4</th>\n",
       "      <td>4</td>\n",
       "      <td>Kindly Share This Story:  By Marie-Therese Nan...</td>\n",
       "      <td>Boko Haram</td>\n",
       "      <td>dead 30 house destroy plateau attack kindly sh...</td>\n",
       "      <td>nst</td>\n",
       "      <td>dead 30 house destroy plateau attack kindly sh...</td>\n",
       "    </tr>\n",
       "    <tr>\n",
       "      <th>...</th>\n",
       "      <td>...</td>\n",
       "      <td>...</td>\n",
       "      <td>...</td>\n",
       "      <td>...</td>\n",
       "      <td>...</td>\n",
       "      <td>...</td>\n",
       "    </tr>\n",
       "    <tr>\n",
       "      <th>10299</th>\n",
       "      <td>116637</td>\n",
       "      <td>: Umar Muhammed  Nigerian Army  | credits: Gok...</td>\n",
       "      <td>Boko Haram</td>\n",
       "      <td>troops kill 150 b’haram fighter rescue 36 umar...</td>\n",
       "      <td>nst</td>\n",
       "      <td>troops kill 150 b’haram scrapper rescue 36 uma...</td>\n",
       "    </tr>\n",
       "    <tr>\n",
       "      <th>10305</th>\n",
       "      <td>116643</td>\n",
       "      <td>Michael Olugbode  What could have been a m...</td>\n",
       "      <td>Boko Haram</td>\n",
       "      <td>suicide bombers die car explosion      michael...</td>\n",
       "      <td>nst</td>\n",
       "      <td>self-destruction hoagie die car explosion mich...</td>\n",
       "    </tr>\n",
       "    <tr>\n",
       "      <th>10315</th>\n",
       "      <td>116653</td>\n",
       "      <td>Yaounde, Cameroon (CNN)Ten civilians and a sol...</td>\n",
       "      <td>Boko Haram</td>\n",
       "      <td>boko haram kill 5 cameroon yaounde cameroon cn...</td>\n",
       "      <td>nst</td>\n",
       "      <td>boko haram kill 5 cameroon yaounde cameroon cn...</td>\n",
       "    </tr>\n",
       "    <tr>\n",
       "      <th>10317</th>\n",
       "      <td>116655</td>\n",
       "      <td>Nigerian Army  Michael Olugbode  The Nigerian ...</td>\n",
       "      <td>Boko Haram</td>\n",
       "      <td>boko haram ambush convoy kill officer soldier ...</td>\n",
       "      <td>nst</td>\n",
       "      <td>boko haram ambush convoy kill officer soldier ...</td>\n",
       "    </tr>\n",
       "    <tr>\n",
       "      <th>10333</th>\n",
       "      <td>116671</td>\n",
       "      <td>Two female suicide bombers were killed in Nort...</td>\n",
       "      <td>Boko Haram</td>\n",
       "      <td>2 teenage girl attempt suicide attack kill fem...</td>\n",
       "      <td>nst</td>\n",
       "      <td>2 teenage girl effort suicide tone-beginning k...</td>\n",
       "    </tr>\n",
       "  </tbody>\n",
       "</table>\n",
       "<p>3316 rows × 6 columns</p>\n",
       "</div>"
      ],
      "text/plain": [
       "       Unnamed: 0                                               text  \\\n",
       "0               0  Boko Haram jihadists have raided a military ba...   \n",
       "1               1  Mudiaga Affe, Calabar  No fewer than two perso...   \n",
       "2               2  Suspected militants have kidnapped four Britis...   \n",
       "3               3  ADVERTISEMENT  Abductors of Adetutu Adebanjo, ...   \n",
       "4               4  Kindly Share This Story:  By Marie-Therese Nan...   \n",
       "...           ...                                                ...   \n",
       "10299      116637  : Umar Muhammed  Nigerian Army  | credits: Gok...   \n",
       "10305      116643      Michael Olugbode  What could have been a m...   \n",
       "10315      116653  Yaounde, Cameroon (CNN)Ten civilians and a sol...   \n",
       "10317      116655  Nigerian Army  Michael Olugbode  The Nigerian ...   \n",
       "10333      116671  Two female suicide bombers were killed in Nort...   \n",
       "\n",
       "       boko haram                                             tokens source  \\\n",
       "0      Boko Haram  insurgents raid military base borno kill injur...    nst   \n",
       "1      Boko Haram  die injure cameroonian gendarme invade nigeria...    nst   \n",
       "2      Boko Haram  briton kidnap delta suspected militant kidnap ...    nst   \n",
       "3      Boko Haram  kidnappers kogi polytechnic student demand ran...    nst   \n",
       "4      Boko Haram  dead 30 house destroy plateau attack kindly sh...    nst   \n",
       "...           ...                                                ...    ...   \n",
       "10299  Boko Haram  troops kill 150 b’haram fighter rescue 36 umar...    nst   \n",
       "10305  Boko Haram  suicide bombers die car explosion      michael...    nst   \n",
       "10315  Boko Haram  boko haram kill 5 cameroon yaounde cameroon cn...    nst   \n",
       "10317  Boko Haram  boko haram ambush convoy kill officer soldier ...    nst   \n",
       "10333  Boko Haram  2 teenage girl attempt suicide attack kill fem...    nst   \n",
       "\n",
       "                                     tokens_word_net_aug  \n",
       "0      rebel raid military theme borno kill injure bo...  \n",
       "1      die injure cameroonian gendarme invade nigeria...  \n",
       "2      brit kidnap delta suspected militant kidnap br...  \n",
       "3      kidnaper kogi polytechnic bookman need ransom ...  \n",
       "4      dead 30 house destroy plateau attack kindly sh...  \n",
       "...                                                  ...  \n",
       "10299  troops kill 150 b’haram scrapper rescue 36 uma...  \n",
       "10305  self-destruction hoagie die car explosion mich...  \n",
       "10315  boko haram kill 5 cameroon yaounde cameroon cn...  \n",
       "10317  boko haram ambush convoy kill officer soldier ...  \n",
       "10333  2 teenage girl effort suicide tone-beginning k...  \n",
       "\n",
       "[3316 rows x 6 columns]"
      ]
     },
     "execution_count": 51,
     "metadata": {},
     "output_type": "execute_result"
    }
   ],
   "source": [
    "bh"
   ]
  },
  {
   "cell_type": "code",
   "execution_count": 53,
   "metadata": {},
   "outputs": [],
   "source": [
    "bh_aug = bh[['tokens_word_net_aug', 'boko haram']]"
   ]
  },
  {
   "cell_type": "code",
   "execution_count": 57,
   "metadata": {},
   "outputs": [
    {
     "name": "stderr",
     "output_type": "stream",
     "text": [
      "<ipython-input-57-4d0d590da08e>:1: SettingWithCopyWarning: \n",
      "A value is trying to be set on a copy of a slice from a DataFrame.\n",
      "Try using .loc[row_indexer,col_indexer] = value instead\n",
      "\n",
      "See the caveats in the documentation: https://pandas.pydata.org/pandas-docs/stable/user_guide/indexing.html#returning-a-view-versus-a-copy\n",
      "  bh_aug['source'] = 'nst_aug_word_net'\n"
     ]
    }
   ],
   "source": [
    "bh_aug['source'] = 'nst_aug_word_net'"
   ]
  },
  {
   "cell_type": "code",
   "execution_count": 58,
   "metadata": {},
   "outputs": [
    {
     "data": {
      "text/html": [
       "<div>\n",
       "<style scoped>\n",
       "    .dataframe tbody tr th:only-of-type {\n",
       "        vertical-align: middle;\n",
       "    }\n",
       "\n",
       "    .dataframe tbody tr th {\n",
       "        vertical-align: top;\n",
       "    }\n",
       "\n",
       "    .dataframe thead th {\n",
       "        text-align: right;\n",
       "    }\n",
       "</style>\n",
       "<table border=\"1\" class=\"dataframe\">\n",
       "  <thead>\n",
       "    <tr style=\"text-align: right;\">\n",
       "      <th></th>\n",
       "      <th>tokens_word_net_aug</th>\n",
       "      <th>boko haram</th>\n",
       "      <th>source</th>\n",
       "    </tr>\n",
       "  </thead>\n",
       "  <tbody>\n",
       "    <tr>\n",
       "      <th>0</th>\n",
       "      <td>rebel raid military theme borno kill injure bo...</td>\n",
       "      <td>Boko Haram</td>\n",
       "      <td>nst_aug_word_net</td>\n",
       "    </tr>\n",
       "    <tr>\n",
       "      <th>1</th>\n",
       "      <td>die injure cameroonian gendarme invade nigeria...</td>\n",
       "      <td>Boko Haram</td>\n",
       "      <td>nst_aug_word_net</td>\n",
       "    </tr>\n",
       "    <tr>\n",
       "      <th>2</th>\n",
       "      <td>brit kidnap delta suspected militant kidnap br...</td>\n",
       "      <td>Boko Haram</td>\n",
       "      <td>nst_aug_word_net</td>\n",
       "    </tr>\n",
       "    <tr>\n",
       "      <th>3</th>\n",
       "      <td>kidnaper kogi polytechnic bookman need ransom ...</td>\n",
       "      <td>Boko Haram</td>\n",
       "      <td>nst_aug_word_net</td>\n",
       "    </tr>\n",
       "    <tr>\n",
       "      <th>4</th>\n",
       "      <td>dead 30 house destroy plateau attack kindly sh...</td>\n",
       "      <td>Boko Haram</td>\n",
       "      <td>nst_aug_word_net</td>\n",
       "    </tr>\n",
       "    <tr>\n",
       "      <th>...</th>\n",
       "      <td>...</td>\n",
       "      <td>...</td>\n",
       "      <td>...</td>\n",
       "    </tr>\n",
       "    <tr>\n",
       "      <th>10299</th>\n",
       "      <td>troops kill 150 b’haram scrapper rescue 36 uma...</td>\n",
       "      <td>Boko Haram</td>\n",
       "      <td>nst_aug_word_net</td>\n",
       "    </tr>\n",
       "    <tr>\n",
       "      <th>10305</th>\n",
       "      <td>self-destruction hoagie die car explosion mich...</td>\n",
       "      <td>Boko Haram</td>\n",
       "      <td>nst_aug_word_net</td>\n",
       "    </tr>\n",
       "    <tr>\n",
       "      <th>10315</th>\n",
       "      <td>boko haram kill 5 cameroon yaounde cameroon cn...</td>\n",
       "      <td>Boko Haram</td>\n",
       "      <td>nst_aug_word_net</td>\n",
       "    </tr>\n",
       "    <tr>\n",
       "      <th>10317</th>\n",
       "      <td>boko haram ambush convoy kill officer soldier ...</td>\n",
       "      <td>Boko Haram</td>\n",
       "      <td>nst_aug_word_net</td>\n",
       "    </tr>\n",
       "    <tr>\n",
       "      <th>10333</th>\n",
       "      <td>2 teenage girl effort suicide tone-beginning k...</td>\n",
       "      <td>Boko Haram</td>\n",
       "      <td>nst_aug_word_net</td>\n",
       "    </tr>\n",
       "  </tbody>\n",
       "</table>\n",
       "<p>3316 rows × 3 columns</p>\n",
       "</div>"
      ],
      "text/plain": [
       "                                     tokens_word_net_aug  boko haram  \\\n",
       "0      rebel raid military theme borno kill injure bo...  Boko Haram   \n",
       "1      die injure cameroonian gendarme invade nigeria...  Boko Haram   \n",
       "2      brit kidnap delta suspected militant kidnap br...  Boko Haram   \n",
       "3      kidnaper kogi polytechnic bookman need ransom ...  Boko Haram   \n",
       "4      dead 30 house destroy plateau attack kindly sh...  Boko Haram   \n",
       "...                                                  ...         ...   \n",
       "10299  troops kill 150 b’haram scrapper rescue 36 uma...  Boko Haram   \n",
       "10305  self-destruction hoagie die car explosion mich...  Boko Haram   \n",
       "10315  boko haram kill 5 cameroon yaounde cameroon cn...  Boko Haram   \n",
       "10317  boko haram ambush convoy kill officer soldier ...  Boko Haram   \n",
       "10333  2 teenage girl effort suicide tone-beginning k...  Boko Haram   \n",
       "\n",
       "                 source  \n",
       "0      nst_aug_word_net  \n",
       "1      nst_aug_word_net  \n",
       "2      nst_aug_word_net  \n",
       "3      nst_aug_word_net  \n",
       "4      nst_aug_word_net  \n",
       "...                 ...  \n",
       "10299  nst_aug_word_net  \n",
       "10305  nst_aug_word_net  \n",
       "10315  nst_aug_word_net  \n",
       "10317  nst_aug_word_net  \n",
       "10333  nst_aug_word_net  \n",
       "\n",
       "[3316 rows x 3 columns]"
      ]
     },
     "execution_count": 58,
     "metadata": {},
     "output_type": "execute_result"
    }
   ],
   "source": [
    "bh_aug"
   ]
  },
  {
   "cell_type": "code",
   "execution_count": 59,
   "metadata": {},
   "outputs": [
    {
     "name": "stderr",
     "output_type": "stream",
     "text": [
      "<ipython-input-59-d73047f95032>:1: SettingWithCopyWarning: \n",
      "A value is trying to be set on a copy of a slice from a DataFrame.\n",
      "Try using .loc[row_indexer,col_indexer] = value instead\n",
      "\n",
      "See the caveats in the documentation: https://pandas.pydata.org/pandas-docs/stable/user_guide/indexing.html#returning-a-view-versus-a-copy\n",
      "  bh_aug['tokens_word_net_syn_replace_level_2'] = bh_aug['tokens_word_net_aug'].apply(lambda x: eda.synonym_replacement(str(x), int(len(str(x))*.5)))\n"
     ]
    }
   ],
   "source": [
    "bh_aug['tokens_word_net_syn_replace_level_2'] = bh_aug['tokens_word_net_aug'].apply(lambda x: eda.synonym_replacement(str(x), int(len(str(x))*.5)))"
   ]
  },
  {
   "cell_type": "code",
   "execution_count": 61,
   "metadata": {},
   "outputs": [],
   "source": [
    "bh_aug_level_2 = bh_aug[['boko haram', 'tokens_word_net_syn_replace_level_2']]"
   ]
  },
  {
   "cell_type": "code",
   "execution_count": 63,
   "metadata": {},
   "outputs": [
    {
     "name": "stderr",
     "output_type": "stream",
     "text": [
      "<ipython-input-63-f8a551d33cb4>:1: SettingWithCopyWarning: \n",
      "A value is trying to be set on a copy of a slice from a DataFrame.\n",
      "Try using .loc[row_indexer,col_indexer] = value instead\n",
      "\n",
      "See the caveats in the documentation: https://pandas.pydata.org/pandas-docs/stable/user_guide/indexing.html#returning-a-view-versus-a-copy\n",
      "  bh_aug_level_2['source'] = 'nst_aug_syn_repl_level_2'\n"
     ]
    }
   ],
   "source": [
    "bh_aug_level_2['source'] = 'nst_aug_syn_repl_level_2'"
   ]
  },
  {
   "cell_type": "code",
   "execution_count": 65,
   "metadata": {},
   "outputs": [
    {
     "name": "stderr",
     "output_type": "stream",
     "text": [
      "<ipython-input-65-0177dfc36e06>:1: SettingWithCopyWarning: \n",
      "A value is trying to be set on a copy of a slice from a DataFrame.\n",
      "Try using .loc[row_indexer,col_indexer] = value instead\n",
      "\n",
      "See the caveats in the documentation: https://pandas.pydata.org/pandas-docs/stable/user_guide/indexing.html#returning-a-view-versus-a-copy\n",
      "  bh['nst_syn_repl'] = bh['tokens'].apply(lambda x: eda.synonym_replacement(str(x), int(len(str(x))*.5)))\n"
     ]
    }
   ],
   "source": [
    "bh['nst_syn_repl'] = bh['tokens'].apply(lambda x: eda.synonym_replacement(str(x), int(len(str(x))*.5)))"
   ]
  },
  {
   "cell_type": "code",
   "execution_count": 67,
   "metadata": {},
   "outputs": [],
   "source": [
    "bh_syn_repl = bh[['boko haram', 'nst_syn_repl']]"
   ]
  },
  {
   "cell_type": "code",
   "execution_count": 69,
   "metadata": {},
   "outputs": [
    {
     "name": "stderr",
     "output_type": "stream",
     "text": [
      "<ipython-input-69-05feced6b943>:1: SettingWithCopyWarning: \n",
      "A value is trying to be set on a copy of a slice from a DataFrame.\n",
      "Try using .loc[row_indexer,col_indexer] = value instead\n",
      "\n",
      "See the caveats in the documentation: https://pandas.pydata.org/pandas-docs/stable/user_guide/indexing.html#returning-a-view-versus-a-copy\n",
      "  bh_syn_repl['source'] = 'nst_syn_repl'\n"
     ]
    }
   ],
   "source": [
    "bh_syn_repl['source'] = 'nst_syn_repl'"
   ]
  },
  {
   "cell_type": "code",
   "execution_count": 71,
   "metadata": {},
   "outputs": [],
   "source": [
    "bh_orig = bh[['tokens', 'boko haram', 'source']]"
   ]
  },
  {
   "cell_type": "code",
   "execution_count": 72,
   "metadata": {},
   "outputs": [
    {
     "data": {
      "text/html": [
       "<div>\n",
       "<style scoped>\n",
       "    .dataframe tbody tr th:only-of-type {\n",
       "        vertical-align: middle;\n",
       "    }\n",
       "\n",
       "    .dataframe tbody tr th {\n",
       "        vertical-align: top;\n",
       "    }\n",
       "\n",
       "    .dataframe thead th {\n",
       "        text-align: right;\n",
       "    }\n",
       "</style>\n",
       "<table border=\"1\" class=\"dataframe\">\n",
       "  <thead>\n",
       "    <tr style=\"text-align: right;\">\n",
       "      <th></th>\n",
       "      <th>tokens</th>\n",
       "      <th>boko haram</th>\n",
       "      <th>source</th>\n",
       "    </tr>\n",
       "  </thead>\n",
       "  <tbody>\n",
       "    <tr>\n",
       "      <th>0</th>\n",
       "      <td>insurgents raid military base borno kill injur...</td>\n",
       "      <td>Boko Haram</td>\n",
       "      <td>nst</td>\n",
       "    </tr>\n",
       "    <tr>\n",
       "      <th>1</th>\n",
       "      <td>die injure cameroonian gendarme invade nigeria...</td>\n",
       "      <td>Boko Haram</td>\n",
       "      <td>nst</td>\n",
       "    </tr>\n",
       "    <tr>\n",
       "      <th>2</th>\n",
       "      <td>briton kidnap delta suspected militant kidnap ...</td>\n",
       "      <td>Boko Haram</td>\n",
       "      <td>nst</td>\n",
       "    </tr>\n",
       "    <tr>\n",
       "      <th>3</th>\n",
       "      <td>kidnappers kogi polytechnic student demand ran...</td>\n",
       "      <td>Boko Haram</td>\n",
       "      <td>nst</td>\n",
       "    </tr>\n",
       "    <tr>\n",
       "      <th>4</th>\n",
       "      <td>dead 30 house destroy plateau attack kindly sh...</td>\n",
       "      <td>Boko Haram</td>\n",
       "      <td>nst</td>\n",
       "    </tr>\n",
       "    <tr>\n",
       "      <th>...</th>\n",
       "      <td>...</td>\n",
       "      <td>...</td>\n",
       "      <td>...</td>\n",
       "    </tr>\n",
       "    <tr>\n",
       "      <th>10299</th>\n",
       "      <td>troops kill 150 b’haram fighter rescue 36 umar...</td>\n",
       "      <td>Boko Haram</td>\n",
       "      <td>nst</td>\n",
       "    </tr>\n",
       "    <tr>\n",
       "      <th>10305</th>\n",
       "      <td>suicide bombers die car explosion      michael...</td>\n",
       "      <td>Boko Haram</td>\n",
       "      <td>nst</td>\n",
       "    </tr>\n",
       "    <tr>\n",
       "      <th>10315</th>\n",
       "      <td>boko haram kill 5 cameroon yaounde cameroon cn...</td>\n",
       "      <td>Boko Haram</td>\n",
       "      <td>nst</td>\n",
       "    </tr>\n",
       "    <tr>\n",
       "      <th>10317</th>\n",
       "      <td>boko haram ambush convoy kill officer soldier ...</td>\n",
       "      <td>Boko Haram</td>\n",
       "      <td>nst</td>\n",
       "    </tr>\n",
       "    <tr>\n",
       "      <th>10333</th>\n",
       "      <td>2 teenage girl attempt suicide attack kill fem...</td>\n",
       "      <td>Boko Haram</td>\n",
       "      <td>nst</td>\n",
       "    </tr>\n",
       "  </tbody>\n",
       "</table>\n",
       "<p>3316 rows × 3 columns</p>\n",
       "</div>"
      ],
      "text/plain": [
       "                                                  tokens  boko haram source\n",
       "0      insurgents raid military base borno kill injur...  Boko Haram    nst\n",
       "1      die injure cameroonian gendarme invade nigeria...  Boko Haram    nst\n",
       "2      briton kidnap delta suspected militant kidnap ...  Boko Haram    nst\n",
       "3      kidnappers kogi polytechnic student demand ran...  Boko Haram    nst\n",
       "4      dead 30 house destroy plateau attack kindly sh...  Boko Haram    nst\n",
       "...                                                  ...         ...    ...\n",
       "10299  troops kill 150 b’haram fighter rescue 36 umar...  Boko Haram    nst\n",
       "10305  suicide bombers die car explosion      michael...  Boko Haram    nst\n",
       "10315  boko haram kill 5 cameroon yaounde cameroon cn...  Boko Haram    nst\n",
       "10317  boko haram ambush convoy kill officer soldier ...  Boko Haram    nst\n",
       "10333  2 teenage girl attempt suicide attack kill fem...  Boko Haram    nst\n",
       "\n",
       "[3316 rows x 3 columns]"
      ]
     },
     "execution_count": 72,
     "metadata": {},
     "output_type": "execute_result"
    }
   ],
   "source": [
    "#for final dataset\n",
    "bh_orig"
   ]
  },
  {
   "cell_type": "code",
   "execution_count": 74,
   "metadata": {},
   "outputs": [],
   "source": [
    "bh_aug_2 = bh_aug[['tokens_word_net_aug', 'boko haram', 'source']]"
   ]
  },
  {
   "cell_type": "code",
   "execution_count": 78,
   "metadata": {},
   "outputs": [
    {
     "name": "stderr",
     "output_type": "stream",
     "text": [
      "/anaconda/lib/python3.8/site-packages/pandas/core/frame.py:4300: SettingWithCopyWarning: \n",
      "A value is trying to be set on a copy of a slice from a DataFrame\n",
      "\n",
      "See the caveats in the documentation: https://pandas.pydata.org/pandas-docs/stable/user_guide/indexing.html#returning-a-view-versus-a-copy\n",
      "  return super().rename(\n"
     ]
    }
   ],
   "source": [
    "#for final data\n",
    "bh_aug_2.rename(columns={'tokens_word_net_aug': 'tokens'}, inplace=True)"
   ]
  },
  {
   "cell_type": "code",
   "execution_count": 79,
   "metadata": {},
   "outputs": [
    {
     "data": {
      "text/html": [
       "<div>\n",
       "<style scoped>\n",
       "    .dataframe tbody tr th:only-of-type {\n",
       "        vertical-align: middle;\n",
       "    }\n",
       "\n",
       "    .dataframe tbody tr th {\n",
       "        vertical-align: top;\n",
       "    }\n",
       "\n",
       "    .dataframe thead th {\n",
       "        text-align: right;\n",
       "    }\n",
       "</style>\n",
       "<table border=\"1\" class=\"dataframe\">\n",
       "  <thead>\n",
       "    <tr style=\"text-align: right;\">\n",
       "      <th></th>\n",
       "      <th>tokens</th>\n",
       "      <th>boko haram</th>\n",
       "      <th>source</th>\n",
       "    </tr>\n",
       "  </thead>\n",
       "  <tbody>\n",
       "    <tr>\n",
       "      <th>0</th>\n",
       "      <td>rebel raid military theme borno kill injure bo...</td>\n",
       "      <td>Boko Haram</td>\n",
       "      <td>nst_aug_word_net</td>\n",
       "    </tr>\n",
       "    <tr>\n",
       "      <th>1</th>\n",
       "      <td>die injure cameroonian gendarme invade nigeria...</td>\n",
       "      <td>Boko Haram</td>\n",
       "      <td>nst_aug_word_net</td>\n",
       "    </tr>\n",
       "    <tr>\n",
       "      <th>2</th>\n",
       "      <td>brit kidnap delta suspected militant kidnap br...</td>\n",
       "      <td>Boko Haram</td>\n",
       "      <td>nst_aug_word_net</td>\n",
       "    </tr>\n",
       "    <tr>\n",
       "      <th>3</th>\n",
       "      <td>kidnaper kogi polytechnic bookman need ransom ...</td>\n",
       "      <td>Boko Haram</td>\n",
       "      <td>nst_aug_word_net</td>\n",
       "    </tr>\n",
       "    <tr>\n",
       "      <th>4</th>\n",
       "      <td>dead 30 house destroy plateau attack kindly sh...</td>\n",
       "      <td>Boko Haram</td>\n",
       "      <td>nst_aug_word_net</td>\n",
       "    </tr>\n",
       "    <tr>\n",
       "      <th>...</th>\n",
       "      <td>...</td>\n",
       "      <td>...</td>\n",
       "      <td>...</td>\n",
       "    </tr>\n",
       "    <tr>\n",
       "      <th>10299</th>\n",
       "      <td>troops kill 150 b’haram scrapper rescue 36 uma...</td>\n",
       "      <td>Boko Haram</td>\n",
       "      <td>nst_aug_word_net</td>\n",
       "    </tr>\n",
       "    <tr>\n",
       "      <th>10305</th>\n",
       "      <td>self-destruction hoagie die car explosion mich...</td>\n",
       "      <td>Boko Haram</td>\n",
       "      <td>nst_aug_word_net</td>\n",
       "    </tr>\n",
       "    <tr>\n",
       "      <th>10315</th>\n",
       "      <td>boko haram kill 5 cameroon yaounde cameroon cn...</td>\n",
       "      <td>Boko Haram</td>\n",
       "      <td>nst_aug_word_net</td>\n",
       "    </tr>\n",
       "    <tr>\n",
       "      <th>10317</th>\n",
       "      <td>boko haram ambush convoy kill officer soldier ...</td>\n",
       "      <td>Boko Haram</td>\n",
       "      <td>nst_aug_word_net</td>\n",
       "    </tr>\n",
       "    <tr>\n",
       "      <th>10333</th>\n",
       "      <td>2 teenage girl effort suicide tone-beginning k...</td>\n",
       "      <td>Boko Haram</td>\n",
       "      <td>nst_aug_word_net</td>\n",
       "    </tr>\n",
       "  </tbody>\n",
       "</table>\n",
       "<p>3316 rows × 3 columns</p>\n",
       "</div>"
      ],
      "text/plain": [
       "                                                  tokens  boko haram  \\\n",
       "0      rebel raid military theme borno kill injure bo...  Boko Haram   \n",
       "1      die injure cameroonian gendarme invade nigeria...  Boko Haram   \n",
       "2      brit kidnap delta suspected militant kidnap br...  Boko Haram   \n",
       "3      kidnaper kogi polytechnic bookman need ransom ...  Boko Haram   \n",
       "4      dead 30 house destroy plateau attack kindly sh...  Boko Haram   \n",
       "...                                                  ...         ...   \n",
       "10299  troops kill 150 b’haram scrapper rescue 36 uma...  Boko Haram   \n",
       "10305  self-destruction hoagie die car explosion mich...  Boko Haram   \n",
       "10315  boko haram kill 5 cameroon yaounde cameroon cn...  Boko Haram   \n",
       "10317  boko haram ambush convoy kill officer soldier ...  Boko Haram   \n",
       "10333  2 teenage girl effort suicide tone-beginning k...  Boko Haram   \n",
       "\n",
       "                 source  \n",
       "0      nst_aug_word_net  \n",
       "1      nst_aug_word_net  \n",
       "2      nst_aug_word_net  \n",
       "3      nst_aug_word_net  \n",
       "4      nst_aug_word_net  \n",
       "...                 ...  \n",
       "10299  nst_aug_word_net  \n",
       "10305  nst_aug_word_net  \n",
       "10315  nst_aug_word_net  \n",
       "10317  nst_aug_word_net  \n",
       "10333  nst_aug_word_net  \n",
       "\n",
       "[3316 rows x 3 columns]"
      ]
     },
     "execution_count": 79,
     "metadata": {},
     "output_type": "execute_result"
    }
   ],
   "source": [
    "bh_aug_2"
   ]
  },
  {
   "cell_type": "code",
   "execution_count": 80,
   "metadata": {},
   "outputs": [
    {
     "name": "stderr",
     "output_type": "stream",
     "text": [
      "/anaconda/lib/python3.8/site-packages/pandas/core/frame.py:4300: SettingWithCopyWarning: \n",
      "A value is trying to be set on a copy of a slice from a DataFrame\n",
      "\n",
      "See the caveats in the documentation: https://pandas.pydata.org/pandas-docs/stable/user_guide/indexing.html#returning-a-view-versus-a-copy\n",
      "  return super().rename(\n"
     ]
    }
   ],
   "source": [
    "#to add to final data\n",
    "bh_aug_level_2.rename(columns={'tokens_word_net_syn_replace_level_2': 'tokens'}, inplace=True)"
   ]
  },
  {
   "cell_type": "code",
   "execution_count": 81,
   "metadata": {},
   "outputs": [
    {
     "data": {
      "text/html": [
       "<div>\n",
       "<style scoped>\n",
       "    .dataframe tbody tr th:only-of-type {\n",
       "        vertical-align: middle;\n",
       "    }\n",
       "\n",
       "    .dataframe tbody tr th {\n",
       "        vertical-align: top;\n",
       "    }\n",
       "\n",
       "    .dataframe thead th {\n",
       "        text-align: right;\n",
       "    }\n",
       "</style>\n",
       "<table border=\"1\" class=\"dataframe\">\n",
       "  <thead>\n",
       "    <tr style=\"text-align: right;\">\n",
       "      <th></th>\n",
       "      <th>boko haram</th>\n",
       "      <th>tokens</th>\n",
       "      <th>source</th>\n",
       "    </tr>\n",
       "  </thead>\n",
       "  <tbody>\n",
       "    <tr>\n",
       "      <th>0</th>\n",
       "      <td>Boko Haram</td>\n",
       "      <td>rise foray armed forces musical theme borno bo...</td>\n",
       "      <td>nst_aug_syn_repl_level_2</td>\n",
       "    </tr>\n",
       "    <tr>\n",
       "      <th>1</th>\n",
       "      <td>Boko Haram</td>\n",
       "      <td>conk hurt cameroonian gendarme overrun nigerie...</td>\n",
       "      <td>nst_aug_syn_repl_level_2</td>\n",
       "    </tr>\n",
       "    <tr>\n",
       "      <th>2</th>\n",
       "      <td>Boko Haram</td>\n",
       "      <td>briton snatch delta mistrust war ridden snatch...</td>\n",
       "      <td>nst_aug_syn_repl_level_2</td>\n",
       "    </tr>\n",
       "    <tr>\n",
       "      <th>3</th>\n",
       "      <td>Boko Haram</td>\n",
       "      <td>abductor kogi polytechnic institute scholar ne...</td>\n",
       "      <td>nst_aug_syn_repl_level_2</td>\n",
       "    </tr>\n",
       "    <tr>\n",
       "      <th>4</th>\n",
       "      <td>Boko Haram</td>\n",
       "      <td>suddenly xxx firm destruct tableland tone begi...</td>\n",
       "      <td>nst_aug_syn_repl_level_2</td>\n",
       "    </tr>\n",
       "    <tr>\n",
       "      <th>...</th>\n",
       "      <td>...</td>\n",
       "      <td>...</td>\n",
       "      <td>...</td>\n",
       "    </tr>\n",
       "    <tr>\n",
       "      <th>10299</th>\n",
       "      <td>Boko Haram</td>\n",
       "      <td>scout troop vote out cl b’haram belligerent de...</td>\n",
       "      <td>nst_aug_syn_repl_level_2</td>\n",
       "    </tr>\n",
       "    <tr>\n",
       "      <th>10305</th>\n",
       "      <td>Boko Haram</td>\n",
       "      <td>self annihilation italian sandwich die out mac...</td>\n",
       "      <td>nst_aug_syn_repl_level_2</td>\n",
       "    </tr>\n",
       "    <tr>\n",
       "      <th>10315</th>\n",
       "      <td>Boko Haram</td>\n",
       "      <td>boko haram belt down quint republic of cameroo...</td>\n",
       "      <td>nst_aug_syn_repl_level_2</td>\n",
       "    </tr>\n",
       "    <tr>\n",
       "      <th>10317</th>\n",
       "      <td>Boko Haram</td>\n",
       "      <td>boko haram lie in wait convoy drink down polic...</td>\n",
       "      <td>nst_aug_syn_repl_level_2</td>\n",
       "    </tr>\n",
       "    <tr>\n",
       "      <th>10333</th>\n",
       "      <td>Boko Haram</td>\n",
       "      <td>teenaged young lady drive felo de se tone beg...</td>\n",
       "      <td>nst_aug_syn_repl_level_2</td>\n",
       "    </tr>\n",
       "  </tbody>\n",
       "</table>\n",
       "<p>3316 rows × 3 columns</p>\n",
       "</div>"
      ],
      "text/plain": [
       "       boko haram                                             tokens  \\\n",
       "0      Boko Haram  rise foray armed forces musical theme borno bo...   \n",
       "1      Boko Haram  conk hurt cameroonian gendarme overrun nigerie...   \n",
       "2      Boko Haram  briton snatch delta mistrust war ridden snatch...   \n",
       "3      Boko Haram  abductor kogi polytechnic institute scholar ne...   \n",
       "4      Boko Haram  suddenly xxx firm destruct tableland tone begi...   \n",
       "...           ...                                                ...   \n",
       "10299  Boko Haram  scout troop vote out cl b’haram belligerent de...   \n",
       "10305  Boko Haram  self annihilation italian sandwich die out mac...   \n",
       "10315  Boko Haram  boko haram belt down quint republic of cameroo...   \n",
       "10317  Boko Haram  boko haram lie in wait convoy drink down polic...   \n",
       "10333  Boko Haram   teenaged young lady drive felo de se tone beg...   \n",
       "\n",
       "                         source  \n",
       "0      nst_aug_syn_repl_level_2  \n",
       "1      nst_aug_syn_repl_level_2  \n",
       "2      nst_aug_syn_repl_level_2  \n",
       "3      nst_aug_syn_repl_level_2  \n",
       "4      nst_aug_syn_repl_level_2  \n",
       "...                         ...  \n",
       "10299  nst_aug_syn_repl_level_2  \n",
       "10305  nst_aug_syn_repl_level_2  \n",
       "10315  nst_aug_syn_repl_level_2  \n",
       "10317  nst_aug_syn_repl_level_2  \n",
       "10333  nst_aug_syn_repl_level_2  \n",
       "\n",
       "[3316 rows x 3 columns]"
      ]
     },
     "execution_count": 81,
     "metadata": {},
     "output_type": "execute_result"
    }
   ],
   "source": [
    "bh_aug_level_2"
   ]
  },
  {
   "cell_type": "code",
   "execution_count": 84,
   "metadata": {},
   "outputs": [
    {
     "name": "stderr",
     "output_type": "stream",
     "text": [
      "/anaconda/lib/python3.8/site-packages/pandas/core/frame.py:4300: SettingWithCopyWarning: \n",
      "A value is trying to be set on a copy of a slice from a DataFrame\n",
      "\n",
      "See the caveats in the documentation: https://pandas.pydata.org/pandas-docs/stable/user_guide/indexing.html#returning-a-view-versus-a-copy\n",
      "  return super().rename(\n"
     ]
    }
   ],
   "source": [
    "bh_syn_repl.rename(columns={'nst_syn_repl': 'tokens'}, inplace=True)"
   ]
  },
  {
   "cell_type": "code",
   "execution_count": 86,
   "metadata": {},
   "outputs": [],
   "source": [
    "bh_final = pd.concat([bh_orig, bh_aug_2, bh_aug_level_2, bh_syn_repl ])"
   ]
  },
  {
   "cell_type": "code",
   "execution_count": 87,
   "metadata": {},
   "outputs": [
    {
     "data": {
      "text/plain": [
       "(13264, 3)"
      ]
     },
     "execution_count": 87,
     "metadata": {},
     "output_type": "execute_result"
    }
   ],
   "source": [
    "bh_final.shape"
   ]
  },
  {
   "cell_type": "code",
   "execution_count": 90,
   "metadata": {},
   "outputs": [],
   "source": [
    "no_bh = df[df['boko haram']!= 'Boko Haram']"
   ]
  },
  {
   "cell_type": "code",
   "execution_count": 91,
   "metadata": {},
   "outputs": [
    {
     "data": {
      "text/html": [
       "<div>\n",
       "<style scoped>\n",
       "    .dataframe tbody tr th:only-of-type {\n",
       "        vertical-align: middle;\n",
       "    }\n",
       "\n",
       "    .dataframe tbody tr th {\n",
       "        vertical-align: top;\n",
       "    }\n",
       "\n",
       "    .dataframe thead th {\n",
       "        text-align: right;\n",
       "    }\n",
       "</style>\n",
       "<table border=\"1\" class=\"dataframe\">\n",
       "  <thead>\n",
       "    <tr style=\"text-align: right;\">\n",
       "      <th></th>\n",
       "      <th>Unnamed: 0</th>\n",
       "      <th>text</th>\n",
       "      <th>boko haram</th>\n",
       "      <th>tokens</th>\n",
       "      <th>source</th>\n",
       "    </tr>\n",
       "  </thead>\n",
       "  <tbody>\n",
       "    <tr>\n",
       "      <th>13</th>\n",
       "      <td>13</td>\n",
       "      <td>ADVERTISEMENT  The Nigerian Air Force, NAF, sa...</td>\n",
       "      <td>None</td>\n",
       "      <td>nigeria air force bomb boko haram base kill of...</td>\n",
       "      <td>nst</td>\n",
       "    </tr>\n",
       "    <tr>\n",
       "      <th>17</th>\n",
       "      <td>17</td>\n",
       "      <td>Friday Olokor, Jos  Two persons were said to h...</td>\n",
       "      <td>None</td>\n",
       "      <td>die soldier youth clash plateau friday olokor ...</td>\n",
       "      <td>nst</td>\n",
       "    </tr>\n",
       "    <tr>\n",
       "      <th>28</th>\n",
       "      <td>28</td>\n",
       "      <td>Simon Utebor, Yenagoa  A policeman identified ...</td>\n",
       "      <td>None</td>\n",
       "      <td>policeman shoot ss3 pupil dead bayelsa simon u...</td>\n",
       "      <td>nst</td>\n",
       "    </tr>\n",
       "    <tr>\n",
       "      <th>30</th>\n",
       "      <td>30</td>\n",
       "      <td>ADVERTISEMENT  The Nigerian Army on Saturday s...</td>\n",
       "      <td>None</td>\n",
       "      <td>troops destroy boko haram grain market borno a...</td>\n",
       "      <td>nst</td>\n",
       "    </tr>\n",
       "    <tr>\n",
       "      <th>31</th>\n",
       "      <td>31</td>\n",
       "      <td>ADVERTISEMENT  Two suspected female Boko Haram...</td>\n",
       "      <td>None</td>\n",
       "      <td>female suicide bomber strike adamawa advertise...</td>\n",
       "      <td>nst</td>\n",
       "    </tr>\n",
       "    <tr>\n",
       "      <th>...</th>\n",
       "      <td>...</td>\n",
       "      <td>...</td>\n",
       "      <td>...</td>\n",
       "      <td>...</td>\n",
       "      <td>...</td>\n",
       "    </tr>\n",
       "    <tr>\n",
       "      <th>10345</th>\n",
       "      <td>116683</td>\n",
       "      <td>An alleged member of a cult group, Aye confrat...</td>\n",
       "      <td>None</td>\n",
       "      <td>shoot dead 2 house raze anambra cult clash all...</td>\n",
       "      <td>nst</td>\n",
       "    </tr>\n",
       "    <tr>\n",
       "      <th>10346</th>\n",
       "      <td>116684</td>\n",
       "      <td>The Police Special Anti Robbery Squad (SARS) h...</td>\n",
       "      <td>None</td>\n",
       "      <td>sars kill 1 injure robbery gang member police ...</td>\n",
       "      <td>nst</td>\n",
       "    </tr>\n",
       "    <tr>\n",
       "      <th>10347</th>\n",
       "      <td>116685</td>\n",
       "      <td>Armed men num­bering about 16, on Sunday, in­v...</td>\n",
       "      <td>None</td>\n",
       "      <td>armed man invade anambra police station wind d...</td>\n",
       "      <td>nst</td>\n",
       "    </tr>\n",
       "    <tr>\n",
       "      <th>10348</th>\n",
       "      <td>116686</td>\n",
       "      <td>Home | News | General | Two shot dead, another...</td>\n",
       "      <td>None</td>\n",
       "      <td>shoot dead throw gunman attack anambra village...</td>\n",
       "      <td>nst</td>\n",
       "    </tr>\n",
       "    <tr>\n",
       "      <th>10349</th>\n",
       "      <td>116687</td>\n",
       "      <td>Troops of 151 Task Force Battalion, 21 Brigade...</td>\n",
       "      <td>None</td>\n",
       "      <td>troops ambush kill escape boko haram terrorist...</td>\n",
       "      <td>nst</td>\n",
       "    </tr>\n",
       "  </tbody>\n",
       "</table>\n",
       "<p>7034 rows × 5 columns</p>\n",
       "</div>"
      ],
      "text/plain": [
       "       Unnamed: 0                                               text  \\\n",
       "13             13  ADVERTISEMENT  The Nigerian Air Force, NAF, sa...   \n",
       "17             17  Friday Olokor, Jos  Two persons were said to h...   \n",
       "28             28  Simon Utebor, Yenagoa  A policeman identified ...   \n",
       "30             30  ADVERTISEMENT  The Nigerian Army on Saturday s...   \n",
       "31             31  ADVERTISEMENT  Two suspected female Boko Haram...   \n",
       "...           ...                                                ...   \n",
       "10345      116683  An alleged member of a cult group, Aye confrat...   \n",
       "10346      116684  The Police Special Anti Robbery Squad (SARS) h...   \n",
       "10347      116685  Armed men num­bering about 16, on Sunday, in­v...   \n",
       "10348      116686  Home | News | General | Two shot dead, another...   \n",
       "10349      116687  Troops of 151 Task Force Battalion, 21 Brigade...   \n",
       "\n",
       "      boko haram                                             tokens source  \n",
       "13          None  nigeria air force bomb boko haram base kill of...    nst  \n",
       "17          None  die soldier youth clash plateau friday olokor ...    nst  \n",
       "28          None  policeman shoot ss3 pupil dead bayelsa simon u...    nst  \n",
       "30          None  troops destroy boko haram grain market borno a...    nst  \n",
       "31          None  female suicide bomber strike adamawa advertise...    nst  \n",
       "...          ...                                                ...    ...  \n",
       "10345       None  shoot dead 2 house raze anambra cult clash all...    nst  \n",
       "10346       None  sars kill 1 injure robbery gang member police ...    nst  \n",
       "10347       None  armed man invade anambra police station wind d...    nst  \n",
       "10348       None  shoot dead throw gunman attack anambra village...    nst  \n",
       "10349       None  troops ambush kill escape boko haram terrorist...    nst  \n",
       "\n",
       "[7034 rows x 5 columns]"
      ]
     },
     "execution_count": 91,
     "metadata": {},
     "output_type": "execute_result"
    }
   ],
   "source": [
    "no_bh"
   ]
  },
  {
   "cell_type": "code",
   "execution_count": 93,
   "metadata": {},
   "outputs": [],
   "source": [
    "bh_final.to_csv('boko_haram_only_nst_augmented_data_12.18.20.csv')"
   ]
  },
  {
   "cell_type": "code",
   "execution_count": 105,
   "metadata": {},
   "outputs": [
    {
     "data": {
      "text/html": [
       "<div>\n",
       "<style scoped>\n",
       "    .dataframe tbody tr th:only-of-type {\n",
       "        vertical-align: middle;\n",
       "    }\n",
       "\n",
       "    .dataframe tbody tr th {\n",
       "        vertical-align: top;\n",
       "    }\n",
       "\n",
       "    .dataframe thead th {\n",
       "        text-align: right;\n",
       "    }\n",
       "</style>\n",
       "<table border=\"1\" class=\"dataframe\">\n",
       "  <thead>\n",
       "    <tr style=\"text-align: right;\">\n",
       "      <th></th>\n",
       "      <th>tokens</th>\n",
       "      <th>boko haram</th>\n",
       "      <th>source</th>\n",
       "    </tr>\n",
       "  </thead>\n",
       "  <tbody>\n",
       "    <tr>\n",
       "      <th>0</th>\n",
       "      <td>insurgents raid military base borno kill injur...</td>\n",
       "      <td>Boko Haram</td>\n",
       "      <td>nst</td>\n",
       "    </tr>\n",
       "    <tr>\n",
       "      <th>1</th>\n",
       "      <td>die injure cameroonian gendarme invade nigeria...</td>\n",
       "      <td>Boko Haram</td>\n",
       "      <td>nst</td>\n",
       "    </tr>\n",
       "    <tr>\n",
       "      <th>2</th>\n",
       "      <td>briton kidnap delta suspected militant kidnap ...</td>\n",
       "      <td>Boko Haram</td>\n",
       "      <td>nst</td>\n",
       "    </tr>\n",
       "    <tr>\n",
       "      <th>3</th>\n",
       "      <td>kidnappers kogi polytechnic student demand ran...</td>\n",
       "      <td>Boko Haram</td>\n",
       "      <td>nst</td>\n",
       "    </tr>\n",
       "    <tr>\n",
       "      <th>4</th>\n",
       "      <td>dead 30 house destroy plateau attack kindly sh...</td>\n",
       "      <td>Boko Haram</td>\n",
       "      <td>nst</td>\n",
       "    </tr>\n",
       "    <tr>\n",
       "      <th>...</th>\n",
       "      <td>...</td>\n",
       "      <td>...</td>\n",
       "      <td>...</td>\n",
       "    </tr>\n",
       "    <tr>\n",
       "      <th>10299</th>\n",
       "      <td>scout troop belt down cl b’haram attack aircra...</td>\n",
       "      <td>Boko Haram</td>\n",
       "      <td>nst_syn_repl</td>\n",
       "    </tr>\n",
       "    <tr>\n",
       "      <th>10305</th>\n",
       "      <td>felo de se poor boy give out cable car detonat...</td>\n",
       "      <td>Boko Haram</td>\n",
       "      <td>nst_syn_repl</td>\n",
       "    </tr>\n",
       "    <tr>\n",
       "      <th>10315</th>\n",
       "      <td>boko haram down five republic of cameroon capi...</td>\n",
       "      <td>Boko Haram</td>\n",
       "      <td>nst_syn_repl</td>\n",
       "    </tr>\n",
       "    <tr>\n",
       "      <th>10317</th>\n",
       "      <td>boko haram lying in wait convoy bolt down poli...</td>\n",
       "      <td>Boko Haram</td>\n",
       "      <td>nst_syn_repl</td>\n",
       "    </tr>\n",
       "    <tr>\n",
       "      <th>10333</th>\n",
       "      <td>two teen young lady endeavor self annihilation...</td>\n",
       "      <td>Boko Haram</td>\n",
       "      <td>nst_syn_repl</td>\n",
       "    </tr>\n",
       "  </tbody>\n",
       "</table>\n",
       "<p>13264 rows × 3 columns</p>\n",
       "</div>"
      ],
      "text/plain": [
       "                                                  tokens  boko haram  \\\n",
       "0      insurgents raid military base borno kill injur...  Boko Haram   \n",
       "1      die injure cameroonian gendarme invade nigeria...  Boko Haram   \n",
       "2      briton kidnap delta suspected militant kidnap ...  Boko Haram   \n",
       "3      kidnappers kogi polytechnic student demand ran...  Boko Haram   \n",
       "4      dead 30 house destroy plateau attack kindly sh...  Boko Haram   \n",
       "...                                                  ...         ...   \n",
       "10299  scout troop belt down cl b’haram attack aircra...  Boko Haram   \n",
       "10305  felo de se poor boy give out cable car detonat...  Boko Haram   \n",
       "10315  boko haram down five republic of cameroon capi...  Boko Haram   \n",
       "10317  boko haram lying in wait convoy bolt down poli...  Boko Haram   \n",
       "10333  two teen young lady endeavor self annihilation...  Boko Haram   \n",
       "\n",
       "             source  \n",
       "0               nst  \n",
       "1               nst  \n",
       "2               nst  \n",
       "3               nst  \n",
       "4               nst  \n",
       "...             ...  \n",
       "10299  nst_syn_repl  \n",
       "10305  nst_syn_repl  \n",
       "10315  nst_syn_repl  \n",
       "10317  nst_syn_repl  \n",
       "10333  nst_syn_repl  \n",
       "\n",
       "[13264 rows x 3 columns]"
      ]
     },
     "execution_count": 105,
     "metadata": {},
     "output_type": "execute_result"
    }
   ],
   "source": [
    "bh_final"
   ]
  },
  {
   "cell_type": "code",
   "execution_count": 96,
   "metadata": {},
   "outputs": [],
   "source": [
    "no_bh_3000 = no_bh[:3000]"
   ]
  },
  {
   "cell_type": "code",
   "execution_count": 98,
   "metadata": {},
   "outputs": [
    {
     "name": "stderr",
     "output_type": "stream",
     "text": [
      "<ipython-input-98-2ab41801415f>:1: SettingWithCopyWarning: \n",
      "A value is trying to be set on a copy of a slice from a DataFrame.\n",
      "Try using .loc[row_indexer,col_indexer] = value instead\n",
      "\n",
      "See the caveats in the documentation: https://pandas.pydata.org/pandas-docs/stable/user_guide/indexing.html#returning-a-view-versus-a-copy\n",
      "  no_bh_3000['tokens_syn_repl'] = no_bh_3000['tokens'].apply(lambda x: eda.synonym_replacement(str(x), int(len(str(x))*.5)))\n"
     ]
    }
   ],
   "source": [
    "no_bh_3000['tokens_syn_repl'] = no_bh_3000['tokens'].apply(lambda x: eda.synonym_replacement(str(x), int(len(str(x))*.5)))"
   ]
  },
  {
   "cell_type": "code",
   "execution_count": 99,
   "metadata": {},
   "outputs": [],
   "source": [
    "no_bh_6000 = no_bh[3000:]"
   ]
  },
  {
   "cell_type": "code",
   "execution_count": 100,
   "metadata": {},
   "outputs": [
    {
     "name": "stderr",
     "output_type": "stream",
     "text": [
      "<ipython-input-100-52540d075e46>:1: SettingWithCopyWarning: \n",
      "A value is trying to be set on a copy of a slice from a DataFrame.\n",
      "Try using .loc[row_indexer,col_indexer] = value instead\n",
      "\n",
      "See the caveats in the documentation: https://pandas.pydata.org/pandas-docs/stable/user_guide/indexing.html#returning-a-view-versus-a-copy\n",
      "  no_bh_6000['tokens_augment_word_net'] = no_bh_6000['tokens'].apply(lambda x: t.augment(str(x)))\n"
     ]
    }
   ],
   "source": [
    "no_bh_6000['tokens_augment_word_net'] = no_bh_6000['tokens'].apply(lambda x: t.augment(str(x)))"
   ]
  },
  {
   "cell_type": "code",
   "execution_count": 102,
   "metadata": {},
   "outputs": [],
   "source": [
    "no_bh_3000 = no_bh_3000[['tokens_syn_repl', 'boko haram']]"
   ]
  },
  {
   "cell_type": "code",
   "execution_count": 103,
   "metadata": {},
   "outputs": [
    {
     "name": "stderr",
     "output_type": "stream",
     "text": [
      "<ipython-input-103-0485f07ee77e>:1: SettingWithCopyWarning: \n",
      "A value is trying to be set on a copy of a slice from a DataFrame.\n",
      "Try using .loc[row_indexer,col_indexer] = value instead\n",
      "\n",
      "See the caveats in the documentation: https://pandas.pydata.org/pandas-docs/stable/user_guide/indexing.html#returning-a-view-versus-a-copy\n",
      "  no_bh_3000['source'] = 'nst_no_bh_syn_repl'\n"
     ]
    }
   ],
   "source": [
    "no_bh_3000['source'] = 'nst_no_bh_syn_repl'"
   ]
  },
  {
   "cell_type": "code",
   "execution_count": 104,
   "metadata": {},
   "outputs": [
    {
     "data": {
      "text/html": [
       "<div>\n",
       "<style scoped>\n",
       "    .dataframe tbody tr th:only-of-type {\n",
       "        vertical-align: middle;\n",
       "    }\n",
       "\n",
       "    .dataframe tbody tr th {\n",
       "        vertical-align: top;\n",
       "    }\n",
       "\n",
       "    .dataframe thead th {\n",
       "        text-align: right;\n",
       "    }\n",
       "</style>\n",
       "<table border=\"1\" class=\"dataframe\">\n",
       "  <thead>\n",
       "    <tr style=\"text-align: right;\">\n",
       "      <th></th>\n",
       "      <th>tokens_syn_repl</th>\n",
       "      <th>boko haram</th>\n",
       "      <th>source</th>\n",
       "    </tr>\n",
       "  </thead>\n",
       "  <tbody>\n",
       "    <tr>\n",
       "      <th>13</th>\n",
       "      <td>federal republic of nigeria transmit coerce bo...</td>\n",
       "      <td>None</td>\n",
       "      <td>nst_no_bh_syn_repl</td>\n",
       "    </tr>\n",
       "    <tr>\n",
       "      <th>17</th>\n",
       "      <td>cash in ones chips soldier young person clango...</td>\n",
       "      <td>None</td>\n",
       "      <td>nst_no_bh_syn_repl</td>\n",
       "    </tr>\n",
       "    <tr>\n",
       "      <th>28</th>\n",
       "      <td>police officer dash ss3 scholarly person utter...</td>\n",
       "      <td>None</td>\n",
       "      <td>nst_no_bh_syn_repl</td>\n",
       "    </tr>\n",
       "    <tr>\n",
       "      <th>30</th>\n",
       "      <td>promenade put down boko haram texture market p...</td>\n",
       "      <td>None</td>\n",
       "      <td>nst_no_bh_syn_repl</td>\n",
       "    </tr>\n",
       "    <tr>\n",
       "      <th>31</th>\n",
       "      <td>female person self destruction torpedo excise ...</td>\n",
       "      <td>None</td>\n",
       "      <td>nst_no_bh_syn_repl</td>\n",
       "    </tr>\n",
       "    <tr>\n",
       "      <th>...</th>\n",
       "      <td>...</td>\n",
       "      <td>...</td>\n",
       "      <td>...</td>\n",
       "    </tr>\n",
       "    <tr>\n",
       "      <th>4511</th>\n",
       "      <td>gunslinger defeat bayelsa lg conjugation honch...</td>\n",
       "      <td>None</td>\n",
       "      <td>nst_no_bh_syn_repl</td>\n",
       "    </tr>\n",
       "    <tr>\n",
       "      <th>4512</th>\n",
       "      <td>benue vote down physical structure girl patrol...</td>\n",
       "      <td>None</td>\n",
       "      <td>nst_no_bh_syn_repl</td>\n",
       "    </tr>\n",
       "    <tr>\n",
       "      <th>4513</th>\n",
       "      <td>drover onrush senator imoke biotic community o...</td>\n",
       "      <td>None</td>\n",
       "      <td>nst_no_bh_syn_repl</td>\n",
       "    </tr>\n",
       "    <tr>\n",
       "      <th>4515</th>\n",
       "      <td>herder sacking akure local anaesthetic governi...</td>\n",
       "      <td>None</td>\n",
       "      <td>nst_no_bh_syn_repl</td>\n",
       "    </tr>\n",
       "    <tr>\n",
       "      <th>4516</th>\n",
       "      <td>twenty two die out multiple felo de se dud att...</td>\n",
       "      <td>None</td>\n",
       "      <td>nst_no_bh_syn_repl</td>\n",
       "    </tr>\n",
       "  </tbody>\n",
       "</table>\n",
       "<p>3000 rows × 3 columns</p>\n",
       "</div>"
      ],
      "text/plain": [
       "                                        tokens_syn_repl boko haram  \\\n",
       "13    federal republic of nigeria transmit coerce bo...       None   \n",
       "17    cash in ones chips soldier young person clango...       None   \n",
       "28    police officer dash ss3 scholarly person utter...       None   \n",
       "30    promenade put down boko haram texture market p...       None   \n",
       "31    female person self destruction torpedo excise ...       None   \n",
       "...                                                 ...        ...   \n",
       "4511  gunslinger defeat bayelsa lg conjugation honch...       None   \n",
       "4512  benue vote down physical structure girl patrol...       None   \n",
       "4513  drover onrush senator imoke biotic community o...       None   \n",
       "4515  herder sacking akure local anaesthetic governi...       None   \n",
       "4516  twenty two die out multiple felo de se dud att...       None   \n",
       "\n",
       "                  source  \n",
       "13    nst_no_bh_syn_repl  \n",
       "17    nst_no_bh_syn_repl  \n",
       "28    nst_no_bh_syn_repl  \n",
       "30    nst_no_bh_syn_repl  \n",
       "31    nst_no_bh_syn_repl  \n",
       "...                  ...  \n",
       "4511  nst_no_bh_syn_repl  \n",
       "4512  nst_no_bh_syn_repl  \n",
       "4513  nst_no_bh_syn_repl  \n",
       "4515  nst_no_bh_syn_repl  \n",
       "4516  nst_no_bh_syn_repl  \n",
       "\n",
       "[3000 rows x 3 columns]"
      ]
     },
     "execution_count": 104,
     "metadata": {},
     "output_type": "execute_result"
    }
   ],
   "source": [
    "no_bh_3000"
   ]
  },
  {
   "cell_type": "code",
   "execution_count": 107,
   "metadata": {},
   "outputs": [],
   "source": [
    "no_bh_6000 = no_bh_6000[['tokens_augment_word_net', 'boko haram']]"
   ]
  },
  {
   "cell_type": "code",
   "execution_count": 108,
   "metadata": {},
   "outputs": [
    {
     "name": "stderr",
     "output_type": "stream",
     "text": [
      "<ipython-input-108-bf90360098c7>:1: SettingWithCopyWarning: \n",
      "A value is trying to be set on a copy of a slice from a DataFrame.\n",
      "Try using .loc[row_indexer,col_indexer] = value instead\n",
      "\n",
      "See the caveats in the documentation: https://pandas.pydata.org/pandas-docs/stable/user_guide/indexing.html#returning-a-view-versus-a-copy\n",
      "  no_bh_6000['source'] = 'nst_no_bh_augment_word_net'\n"
     ]
    }
   ],
   "source": [
    "no_bh_6000['source'] = 'nst_no_bh_augment_word_net'"
   ]
  },
  {
   "cell_type": "code",
   "execution_count": 112,
   "metadata": {},
   "outputs": [
    {
     "name": "stderr",
     "output_type": "stream",
     "text": [
      "/anaconda/lib/python3.8/site-packages/pandas/core/frame.py:4300: SettingWithCopyWarning: \n",
      "A value is trying to be set on a copy of a slice from a DataFrame\n",
      "\n",
      "See the caveats in the documentation: https://pandas.pydata.org/pandas-docs/stable/user_guide/indexing.html#returning-a-view-versus-a-copy\n",
      "  return super().rename(\n"
     ]
    }
   ],
   "source": [
    "no_bh_6000.rename(columns={'tokens_augment_word_net': 'tokens'}, inplace=True)"
   ]
  },
  {
   "cell_type": "code",
   "execution_count": 114,
   "metadata": {},
   "outputs": [
    {
     "name": "stderr",
     "output_type": "stream",
     "text": [
      "/anaconda/lib/python3.8/site-packages/pandas/core/frame.py:4300: SettingWithCopyWarning: \n",
      "A value is trying to be set on a copy of a slice from a DataFrame\n",
      "\n",
      "See the caveats in the documentation: https://pandas.pydata.org/pandas-docs/stable/user_guide/indexing.html#returning-a-view-versus-a-copy\n",
      "  return super().rename(\n"
     ]
    }
   ],
   "source": [
    "no_bh_3000.rename(columns={'tokens_syn_repl': 'tokens'}, inplace=True)"
   ]
  },
  {
   "cell_type": "code",
   "execution_count": 116,
   "metadata": {},
   "outputs": [],
   "source": [
    "no_bh_final = pd.concat([no_bh_3000, no_bh_6000])"
   ]
  },
  {
   "cell_type": "code",
   "execution_count": 122,
   "metadata": {},
   "outputs": [],
   "source": [
    "no_bh_final = no_bh_final.sample(frac=.86)"
   ]
  },
  {
   "cell_type": "code",
   "execution_count": 124,
   "metadata": {},
   "outputs": [],
   "source": [
    "no_bh = no_bh[['tokens', 'boko haram', 'source']]"
   ]
  },
  {
   "cell_type": "code",
   "execution_count": 126,
   "metadata": {},
   "outputs": [],
   "source": [
    "no_bh_final = pd.concat([no_bh, no_bh_final])"
   ]
  },
  {
   "cell_type": "code",
   "execution_count": 127,
   "metadata": {},
   "outputs": [
    {
     "data": {
      "text/html": [
       "<div>\n",
       "<style scoped>\n",
       "    .dataframe tbody tr th:only-of-type {\n",
       "        vertical-align: middle;\n",
       "    }\n",
       "\n",
       "    .dataframe tbody tr th {\n",
       "        vertical-align: top;\n",
       "    }\n",
       "\n",
       "    .dataframe thead th {\n",
       "        text-align: right;\n",
       "    }\n",
       "</style>\n",
       "<table border=\"1\" class=\"dataframe\">\n",
       "  <thead>\n",
       "    <tr style=\"text-align: right;\">\n",
       "      <th></th>\n",
       "      <th>tokens</th>\n",
       "      <th>boko haram</th>\n",
       "      <th>source</th>\n",
       "    </tr>\n",
       "  </thead>\n",
       "  <tbody>\n",
       "    <tr>\n",
       "      <th>13</th>\n",
       "      <td>nigeria air force bomb boko haram base kill of...</td>\n",
       "      <td>None</td>\n",
       "      <td>nst</td>\n",
       "    </tr>\n",
       "    <tr>\n",
       "      <th>17</th>\n",
       "      <td>die soldier youth clash plateau friday olokor ...</td>\n",
       "      <td>None</td>\n",
       "      <td>nst</td>\n",
       "    </tr>\n",
       "    <tr>\n",
       "      <th>28</th>\n",
       "      <td>policeman shoot ss3 pupil dead bayelsa simon u...</td>\n",
       "      <td>None</td>\n",
       "      <td>nst</td>\n",
       "    </tr>\n",
       "    <tr>\n",
       "      <th>30</th>\n",
       "      <td>troops destroy boko haram grain market borno a...</td>\n",
       "      <td>None</td>\n",
       "      <td>nst</td>\n",
       "    </tr>\n",
       "    <tr>\n",
       "      <th>31</th>\n",
       "      <td>female suicide bomber strike adamawa advertise...</td>\n",
       "      <td>None</td>\n",
       "      <td>nst</td>\n",
       "    </tr>\n",
       "    <tr>\n",
       "      <th>...</th>\n",
       "      <td>...</td>\n",
       "      <td>...</td>\n",
       "      <td>...</td>\n",
       "    </tr>\n",
       "    <tr>\n",
       "      <th>1427</th>\n",
       "      <td>founder constabulary soldier rip gasconade dis...</td>\n",
       "      <td>None</td>\n",
       "      <td>nst_no_bh_syn_repl</td>\n",
       "    </tr>\n",
       "    <tr>\n",
       "      <th>8122</th>\n",
       "      <td>robbers kill guard bargain 150 laptop ondo sch...</td>\n",
       "      <td>None</td>\n",
       "      <td>nst_no_bh_augment_word_net</td>\n",
       "    </tr>\n",
       "    <tr>\n",
       "      <th>1975</th>\n",
       "      <td>trine wet nurse council film director ii nobbl...</td>\n",
       "      <td>None</td>\n",
       "      <td>nst_no_bh_syn_repl</td>\n",
       "    </tr>\n",
       "    <tr>\n",
       "      <th>8141</th>\n",
       "      <td>polish sailors kidnapped pirates nigerian coas...</td>\n",
       "      <td>None</td>\n",
       "      <td>nst_no_bh_augment_word_net</td>\n",
       "    </tr>\n",
       "    <tr>\n",
       "      <th>8181</th>\n",
       "      <td>gunmen kill 12 villager nasarawa related news ...</td>\n",
       "      <td>None</td>\n",
       "      <td>nst_no_bh_augment_word_net</td>\n",
       "    </tr>\n",
       "  </tbody>\n",
       "</table>\n",
       "<p>13083 rows × 3 columns</p>\n",
       "</div>"
      ],
      "text/plain": [
       "                                                 tokens boko haram  \\\n",
       "13    nigeria air force bomb boko haram base kill of...       None   \n",
       "17    die soldier youth clash plateau friday olokor ...       None   \n",
       "28    policeman shoot ss3 pupil dead bayelsa simon u...       None   \n",
       "30    troops destroy boko haram grain market borno a...       None   \n",
       "31    female suicide bomber strike adamawa advertise...       None   \n",
       "...                                                 ...        ...   \n",
       "1427  founder constabulary soldier rip gasconade dis...       None   \n",
       "8122  robbers kill guard bargain 150 laptop ondo sch...       None   \n",
       "1975  trine wet nurse council film director ii nobbl...       None   \n",
       "8141  polish sailors kidnapped pirates nigerian coas...       None   \n",
       "8181  gunmen kill 12 villager nasarawa related news ...       None   \n",
       "\n",
       "                          source  \n",
       "13                           nst  \n",
       "17                           nst  \n",
       "28                           nst  \n",
       "30                           nst  \n",
       "31                           nst  \n",
       "...                          ...  \n",
       "1427          nst_no_bh_syn_repl  \n",
       "8122  nst_no_bh_augment_word_net  \n",
       "1975          nst_no_bh_syn_repl  \n",
       "8141  nst_no_bh_augment_word_net  \n",
       "8181  nst_no_bh_augment_word_net  \n",
       "\n",
       "[13083 rows x 3 columns]"
      ]
     },
     "execution_count": 127,
     "metadata": {},
     "output_type": "execute_result"
    }
   ],
   "source": [
    "no_bh_final"
   ]
  },
  {
   "cell_type": "code",
   "execution_count": 128,
   "metadata": {},
   "outputs": [
    {
     "data": {
      "text/html": [
       "<div>\n",
       "<style scoped>\n",
       "    .dataframe tbody tr th:only-of-type {\n",
       "        vertical-align: middle;\n",
       "    }\n",
       "\n",
       "    .dataframe tbody tr th {\n",
       "        vertical-align: top;\n",
       "    }\n",
       "\n",
       "    .dataframe thead th {\n",
       "        text-align: right;\n",
       "    }\n",
       "</style>\n",
       "<table border=\"1\" class=\"dataframe\">\n",
       "  <thead>\n",
       "    <tr style=\"text-align: right;\">\n",
       "      <th></th>\n",
       "      <th>tokens</th>\n",
       "      <th>boko haram</th>\n",
       "      <th>source</th>\n",
       "    </tr>\n",
       "  </thead>\n",
       "  <tbody>\n",
       "    <tr>\n",
       "      <th>0</th>\n",
       "      <td>insurgents raid military base borno kill injur...</td>\n",
       "      <td>Boko Haram</td>\n",
       "      <td>nst</td>\n",
       "    </tr>\n",
       "    <tr>\n",
       "      <th>1</th>\n",
       "      <td>die injure cameroonian gendarme invade nigeria...</td>\n",
       "      <td>Boko Haram</td>\n",
       "      <td>nst</td>\n",
       "    </tr>\n",
       "    <tr>\n",
       "      <th>2</th>\n",
       "      <td>briton kidnap delta suspected militant kidnap ...</td>\n",
       "      <td>Boko Haram</td>\n",
       "      <td>nst</td>\n",
       "    </tr>\n",
       "    <tr>\n",
       "      <th>3</th>\n",
       "      <td>kidnappers kogi polytechnic student demand ran...</td>\n",
       "      <td>Boko Haram</td>\n",
       "      <td>nst</td>\n",
       "    </tr>\n",
       "    <tr>\n",
       "      <th>4</th>\n",
       "      <td>dead 30 house destroy plateau attack kindly sh...</td>\n",
       "      <td>Boko Haram</td>\n",
       "      <td>nst</td>\n",
       "    </tr>\n",
       "    <tr>\n",
       "      <th>...</th>\n",
       "      <td>...</td>\n",
       "      <td>...</td>\n",
       "      <td>...</td>\n",
       "    </tr>\n",
       "    <tr>\n",
       "      <th>10299</th>\n",
       "      <td>scout troop belt down cl b’haram attack aircra...</td>\n",
       "      <td>Boko Haram</td>\n",
       "      <td>nst_syn_repl</td>\n",
       "    </tr>\n",
       "    <tr>\n",
       "      <th>10305</th>\n",
       "      <td>felo de se poor boy give out cable car detonat...</td>\n",
       "      <td>Boko Haram</td>\n",
       "      <td>nst_syn_repl</td>\n",
       "    </tr>\n",
       "    <tr>\n",
       "      <th>10315</th>\n",
       "      <td>boko haram down five republic of cameroon capi...</td>\n",
       "      <td>Boko Haram</td>\n",
       "      <td>nst_syn_repl</td>\n",
       "    </tr>\n",
       "    <tr>\n",
       "      <th>10317</th>\n",
       "      <td>boko haram lying in wait convoy bolt down poli...</td>\n",
       "      <td>Boko Haram</td>\n",
       "      <td>nst_syn_repl</td>\n",
       "    </tr>\n",
       "    <tr>\n",
       "      <th>10333</th>\n",
       "      <td>two teen young lady endeavor self annihilation...</td>\n",
       "      <td>Boko Haram</td>\n",
       "      <td>nst_syn_repl</td>\n",
       "    </tr>\n",
       "  </tbody>\n",
       "</table>\n",
       "<p>13264 rows × 3 columns</p>\n",
       "</div>"
      ],
      "text/plain": [
       "                                                  tokens  boko haram  \\\n",
       "0      insurgents raid military base borno kill injur...  Boko Haram   \n",
       "1      die injure cameroonian gendarme invade nigeria...  Boko Haram   \n",
       "2      briton kidnap delta suspected militant kidnap ...  Boko Haram   \n",
       "3      kidnappers kogi polytechnic student demand ran...  Boko Haram   \n",
       "4      dead 30 house destroy plateau attack kindly sh...  Boko Haram   \n",
       "...                                                  ...         ...   \n",
       "10299  scout troop belt down cl b’haram attack aircra...  Boko Haram   \n",
       "10305  felo de se poor boy give out cable car detonat...  Boko Haram   \n",
       "10315  boko haram down five republic of cameroon capi...  Boko Haram   \n",
       "10317  boko haram lying in wait convoy bolt down poli...  Boko Haram   \n",
       "10333  two teen young lady endeavor self annihilation...  Boko Haram   \n",
       "\n",
       "             source  \n",
       "0               nst  \n",
       "1               nst  \n",
       "2               nst  \n",
       "3               nst  \n",
       "4               nst  \n",
       "...             ...  \n",
       "10299  nst_syn_repl  \n",
       "10305  nst_syn_repl  \n",
       "10315  nst_syn_repl  \n",
       "10317  nst_syn_repl  \n",
       "10333  nst_syn_repl  \n",
       "\n",
       "[13264 rows x 3 columns]"
      ]
     },
     "execution_count": 128,
     "metadata": {},
     "output_type": "execute_result"
    }
   ],
   "source": [
    "bh_final"
   ]
  },
  {
   "cell_type": "code",
   "execution_count": 129,
   "metadata": {},
   "outputs": [],
   "source": [
    "bh_no_bh_combined = pd.concat([bh_final, no_bh_final])"
   ]
  },
  {
   "cell_type": "code",
   "execution_count": 131,
   "metadata": {},
   "outputs": [],
   "source": [
    "bh_no_bh_combined['tokens_syn_repl_70_percent'] = bh_no_bh_combined['tokens'].apply(lambda x: eda.synonym_replacement(str(x), int(len(str(x))*.7)))"
   ]
  },
  {
   "cell_type": "code",
   "execution_count": 132,
   "metadata": {},
   "outputs": [
    {
     "data": {
      "text/html": [
       "<div>\n",
       "<style scoped>\n",
       "    .dataframe tbody tr th:only-of-type {\n",
       "        vertical-align: middle;\n",
       "    }\n",
       "\n",
       "    .dataframe tbody tr th {\n",
       "        vertical-align: top;\n",
       "    }\n",
       "\n",
       "    .dataframe thead th {\n",
       "        text-align: right;\n",
       "    }\n",
       "</style>\n",
       "<table border=\"1\" class=\"dataframe\">\n",
       "  <thead>\n",
       "    <tr style=\"text-align: right;\">\n",
       "      <th></th>\n",
       "      <th>tokens</th>\n",
       "      <th>boko haram</th>\n",
       "      <th>source</th>\n",
       "      <th>tokens_syn_repl_70_percent</th>\n",
       "    </tr>\n",
       "  </thead>\n",
       "  <tbody>\n",
       "    <tr>\n",
       "      <th>0</th>\n",
       "      <td>insurgents raid military base borno kill injur...</td>\n",
       "      <td>Boko Haram</td>\n",
       "      <td>nst</td>\n",
       "      <td>guerilla foray into armed forces basal borno v...</td>\n",
       "    </tr>\n",
       "    <tr>\n",
       "      <th>1</th>\n",
       "      <td>die injure cameroonian gendarme invade nigeria...</td>\n",
       "      <td>Boko Haram</td>\n",
       "      <td>nst</td>\n",
       "      <td>pop off offend cameroonian gendarme intrude on...</td>\n",
       "    </tr>\n",
       "    <tr>\n",
       "      <th>2</th>\n",
       "      <td>briton kidnap delta suspected militant kidnap ...</td>\n",
       "      <td>Boko Haram</td>\n",
       "      <td>nst</td>\n",
       "      <td>britisher nobble delta suspect competitive nob...</td>\n",
       "    </tr>\n",
       "    <tr>\n",
       "      <th>3</th>\n",
       "      <td>kidnappers kogi polytechnic student demand ran...</td>\n",
       "      <td>Boko Haram</td>\n",
       "      <td>nst</td>\n",
       "      <td>kidnaper kogi engineering school scholar ask r...</td>\n",
       "    </tr>\n",
       "    <tr>\n",
       "      <th>4</th>\n",
       "      <td>dead 30 house destroy plateau attack kindly sh...</td>\n",
       "      <td>Boko Haram</td>\n",
       "      <td>nst</td>\n",
       "      <td>bushed xxx put up demolish tableland approach ...</td>\n",
       "    </tr>\n",
       "    <tr>\n",
       "      <th>...</th>\n",
       "      <td>...</td>\n",
       "      <td>...</td>\n",
       "      <td>...</td>\n",
       "      <td>...</td>\n",
       "    </tr>\n",
       "    <tr>\n",
       "      <th>1427</th>\n",
       "      <td>founder constabulary soldier rip gasconade dis...</td>\n",
       "      <td>None</td>\n",
       "      <td>nst_no_bh_syn_repl</td>\n",
       "      <td>fall flat law soldier rent shoot a line resist...</td>\n",
       "    </tr>\n",
       "    <tr>\n",
       "      <th>8122</th>\n",
       "      <td>robbers kill guard bargain 150 laptop ondo sch...</td>\n",
       "      <td>None</td>\n",
       "      <td>nst_no_bh_augment_word_net</td>\n",
       "      <td>robber toss off safeguard dicker one hundred f...</td>\n",
       "    </tr>\n",
       "    <tr>\n",
       "      <th>1975</th>\n",
       "      <td>trine wet nurse council film director ii nobbl...</td>\n",
       "      <td>None</td>\n",
       "      <td>nst_no_bh_syn_repl</td>\n",
       "      <td>tierce crocked harbour council motion picture ...</td>\n",
       "    </tr>\n",
       "    <tr>\n",
       "      <th>8141</th>\n",
       "      <td>polish sailors kidnapped pirates nigerian coas...</td>\n",
       "      <td>None</td>\n",
       "      <td>nst_no_bh_augment_word_net</td>\n",
       "      <td>polish up straw hat snatch sea rover nigerien ...</td>\n",
       "    </tr>\n",
       "    <tr>\n",
       "      <th>8181</th>\n",
       "      <td>gunmen kill 12 villager nasarawa related news ...</td>\n",
       "      <td>None</td>\n",
       "      <td>nst_no_bh_augment_word_net</td>\n",
       "      <td>triggerman vote out dozen villager nasarawa re...</td>\n",
       "    </tr>\n",
       "  </tbody>\n",
       "</table>\n",
       "<p>26347 rows × 4 columns</p>\n",
       "</div>"
      ],
      "text/plain": [
       "                                                 tokens  boko haram  \\\n",
       "0     insurgents raid military base borno kill injur...  Boko Haram   \n",
       "1     die injure cameroonian gendarme invade nigeria...  Boko Haram   \n",
       "2     briton kidnap delta suspected militant kidnap ...  Boko Haram   \n",
       "3     kidnappers kogi polytechnic student demand ran...  Boko Haram   \n",
       "4     dead 30 house destroy plateau attack kindly sh...  Boko Haram   \n",
       "...                                                 ...         ...   \n",
       "1427  founder constabulary soldier rip gasconade dis...        None   \n",
       "8122  robbers kill guard bargain 150 laptop ondo sch...        None   \n",
       "1975  trine wet nurse council film director ii nobbl...        None   \n",
       "8141  polish sailors kidnapped pirates nigerian coas...        None   \n",
       "8181  gunmen kill 12 villager nasarawa related news ...        None   \n",
       "\n",
       "                          source  \\\n",
       "0                            nst   \n",
       "1                            nst   \n",
       "2                            nst   \n",
       "3                            nst   \n",
       "4                            nst   \n",
       "...                          ...   \n",
       "1427          nst_no_bh_syn_repl   \n",
       "8122  nst_no_bh_augment_word_net   \n",
       "1975          nst_no_bh_syn_repl   \n",
       "8141  nst_no_bh_augment_word_net   \n",
       "8181  nst_no_bh_augment_word_net   \n",
       "\n",
       "                             tokens_syn_repl_70_percent  \n",
       "0     guerilla foray into armed forces basal borno v...  \n",
       "1     pop off offend cameroonian gendarme intrude on...  \n",
       "2     britisher nobble delta suspect competitive nob...  \n",
       "3     kidnaper kogi engineering school scholar ask r...  \n",
       "4     bushed xxx put up demolish tableland approach ...  \n",
       "...                                                 ...  \n",
       "1427  fall flat law soldier rent shoot a line resist...  \n",
       "8122  robber toss off safeguard dicker one hundred f...  \n",
       "1975  tierce crocked harbour council motion picture ...  \n",
       "8141  polish up straw hat snatch sea rover nigerien ...  \n",
       "8181  triggerman vote out dozen villager nasarawa re...  \n",
       "\n",
       "[26347 rows x 4 columns]"
      ]
     },
     "execution_count": 132,
     "metadata": {},
     "output_type": "execute_result"
    }
   ],
   "source": [
    "bh_no_bh_combined"
   ]
  },
  {
   "cell_type": "code",
   "execution_count": 133,
   "metadata": {},
   "outputs": [
    {
     "name": "stderr",
     "output_type": "stream",
     "text": [
      "<ipython-input-133-818d9582ee6d>:2: SettingWithCopyWarning: \n",
      "A value is trying to be set on a copy of a slice from a DataFrame.\n",
      "Try using .loc[row_indexer,col_indexer] = value instead\n",
      "\n",
      "See the caveats in the documentation: https://pandas.pydata.org/pandas-docs/stable/user_guide/indexing.html#returning-a-view-versus-a-copy\n",
      "  bh_no_bh_new['source'] = 'nst_complete_syn_repl'\n"
     ]
    }
   ],
   "source": [
    "bh_no_bh_new = bh_no_bh_combined[['tokens_syn_repl_70_percent', 'boko haram']]\n",
    "bh_no_bh_new['source'] = 'nst_complete_syn_repl'"
   ]
  },
  {
   "cell_type": "code",
   "execution_count": 134,
   "metadata": {},
   "outputs": [
    {
     "name": "stderr",
     "output_type": "stream",
     "text": [
      "/anaconda/lib/python3.8/site-packages/pandas/core/frame.py:4300: SettingWithCopyWarning: \n",
      "A value is trying to be set on a copy of a slice from a DataFrame\n",
      "\n",
      "See the caveats in the documentation: https://pandas.pydata.org/pandas-docs/stable/user_guide/indexing.html#returning-a-view-versus-a-copy\n",
      "  return super().rename(\n"
     ]
    }
   ],
   "source": [
    "bh_no_bh_new.rename(columns={'tokens_syn_repl_70_percent': 'tokens'}, inplace=True)"
   ]
  },
  {
   "cell_type": "code",
   "execution_count": 139,
   "metadata": {},
   "outputs": [],
   "source": [
    "v3_combined = pd.concat([bh_no_bh_new, bh_no_bh_combined[['tokens', 'boko haram', 'source']]])"
   ]
  },
  {
   "cell_type": "code",
   "execution_count": 142,
   "metadata": {},
   "outputs": [],
   "source": [
    "acled = df[df['source']=='acled']"
   ]
  },
  {
   "cell_type": "code",
   "execution_count": 143,
   "metadata": {},
   "outputs": [
    {
     "data": {
      "text/html": [
       "<div>\n",
       "<style scoped>\n",
       "    .dataframe tbody tr th:only-of-type {\n",
       "        vertical-align: middle;\n",
       "    }\n",
       "\n",
       "    .dataframe tbody tr th {\n",
       "        vertical-align: top;\n",
       "    }\n",
       "\n",
       "    .dataframe thead th {\n",
       "        text-align: right;\n",
       "    }\n",
       "</style>\n",
       "<table border=\"1\" class=\"dataframe\">\n",
       "  <thead>\n",
       "    <tr style=\"text-align: right;\">\n",
       "      <th></th>\n",
       "      <th>Unnamed: 0</th>\n",
       "      <th>text</th>\n",
       "      <th>boko haram</th>\n",
       "      <th>tokens</th>\n",
       "      <th>source</th>\n",
       "    </tr>\n",
       "  </thead>\n",
       "  <tbody>\n",
       "    <tr>\n",
       "      <th>10350</th>\n",
       "      <td>4</td>\n",
       "      <td>On 21 November 2020, an ambulance struck an IE...</td>\n",
       "      <td>Boko Haram</td>\n",
       "      <td>21 november 2020 ambulance strike ied bosso di...</td>\n",
       "      <td>acled</td>\n",
       "    </tr>\n",
       "    <tr>\n",
       "      <th>10351</th>\n",
       "      <td>6</td>\n",
       "      <td>On 21 November 2020, suspected ISWAP or Boko H...</td>\n",
       "      <td>Boko Haram</td>\n",
       "      <td>21 november 2020 suspect iswap boko haram jas ...</td>\n",
       "      <td>acled</td>\n",
       "    </tr>\n",
       "    <tr>\n",
       "      <th>10352</th>\n",
       "      <td>36</td>\n",
       "      <td>On 19 November 2020, the military forces ambus...</td>\n",
       "      <td>Boko Haram</td>\n",
       "      <td>19 november 2020 military force ambush boko ha...</td>\n",
       "      <td>acled</td>\n",
       "    </tr>\n",
       "    <tr>\n",
       "      <th>10353</th>\n",
       "      <td>37</td>\n",
       "      <td>On 19 November 2020, Boko Haram fighters kille...</td>\n",
       "      <td>Boko Haram</td>\n",
       "      <td>19 november 2020 boko haram fighter kill behea...</td>\n",
       "      <td>acled</td>\n",
       "    </tr>\n",
       "    <tr>\n",
       "      <th>10354</th>\n",
       "      <td>39</td>\n",
       "      <td>Looting: On 19 November 2020, suspected Boko H...</td>\n",
       "      <td>Boko Haram</td>\n",
       "      <td>looting 19 november 2020 suspect boko haram fi...</td>\n",
       "      <td>acled</td>\n",
       "    </tr>\n",
       "    <tr>\n",
       "      <th>...</th>\n",
       "      <td>...</td>\n",
       "      <td>...</td>\n",
       "      <td>...</td>\n",
       "      <td>...</td>\n",
       "      <td>...</td>\n",
       "    </tr>\n",
       "    <tr>\n",
       "      <th>15059</th>\n",
       "      <td>18882</td>\n",
       "      <td>28 April, on or before. Military forces captur...</td>\n",
       "      <td>Boko Haram</td>\n",
       "      <td>28 april military force capture fulani suspect...</td>\n",
       "      <td>acled</td>\n",
       "    </tr>\n",
       "    <tr>\n",
       "      <th>15060</th>\n",
       "      <td>18916</td>\n",
       "      <td>25 April. Fulanis attack Tse-Umenge, Mbadwen c...</td>\n",
       "      <td>Boko Haram</td>\n",
       "      <td>25 april fulanis attack tse umenge mbadwen cou...</td>\n",
       "      <td>acled</td>\n",
       "    </tr>\n",
       "    <tr>\n",
       "      <th>15061</th>\n",
       "      <td>18942</td>\n",
       "      <td>24 April. Fulanis attack Tse-Umenge, Mbadwen c...</td>\n",
       "      <td>Boko Haram</td>\n",
       "      <td>24 april fulanis attack tse umenge mbadwen cou...</td>\n",
       "      <td>acled</td>\n",
       "    </tr>\n",
       "    <tr>\n",
       "      <th>15062</th>\n",
       "      <td>37660</td>\n",
       "      <td>On 4 January 2011, a riot broke out at Jimeta ...</td>\n",
       "      <td>Boko Haram</td>\n",
       "      <td>4 january 2011 riot break jimeta prison comple...</td>\n",
       "      <td>acled</td>\n",
       "    </tr>\n",
       "    <tr>\n",
       "      <th>15063</th>\n",
       "      <td>38756</td>\n",
       "      <td>On 30 July 2009, the fourth day of an ongoing ...</td>\n",
       "      <td>Boko Haram</td>\n",
       "      <td>30 july 2009 4 day ongoing uprising radical is...</td>\n",
       "      <td>acled</td>\n",
       "    </tr>\n",
       "  </tbody>\n",
       "</table>\n",
       "<p>4714 rows × 5 columns</p>\n",
       "</div>"
      ],
      "text/plain": [
       "       Unnamed: 0                                               text  \\\n",
       "10350           4  On 21 November 2020, an ambulance struck an IE...   \n",
       "10351           6  On 21 November 2020, suspected ISWAP or Boko H...   \n",
       "10352          36  On 19 November 2020, the military forces ambus...   \n",
       "10353          37  On 19 November 2020, Boko Haram fighters kille...   \n",
       "10354          39  Looting: On 19 November 2020, suspected Boko H...   \n",
       "...           ...                                                ...   \n",
       "15059       18882  28 April, on or before. Military forces captur...   \n",
       "15060       18916  25 April. Fulanis attack Tse-Umenge, Mbadwen c...   \n",
       "15061       18942  24 April. Fulanis attack Tse-Umenge, Mbadwen c...   \n",
       "15062       37660  On 4 January 2011, a riot broke out at Jimeta ...   \n",
       "15063       38756  On 30 July 2009, the fourth day of an ongoing ...   \n",
       "\n",
       "       boko haram                                             tokens source  \n",
       "10350  Boko Haram  21 november 2020 ambulance strike ied bosso di...  acled  \n",
       "10351  Boko Haram  21 november 2020 suspect iswap boko haram jas ...  acled  \n",
       "10352  Boko Haram  19 november 2020 military force ambush boko ha...  acled  \n",
       "10353  Boko Haram  19 november 2020 boko haram fighter kill behea...  acled  \n",
       "10354  Boko Haram  looting 19 november 2020 suspect boko haram fi...  acled  \n",
       "...           ...                                                ...    ...  \n",
       "15059  Boko Haram  28 april military force capture fulani suspect...  acled  \n",
       "15060  Boko Haram  25 april fulanis attack tse umenge mbadwen cou...  acled  \n",
       "15061  Boko Haram  24 april fulanis attack tse umenge mbadwen cou...  acled  \n",
       "15062  Boko Haram  4 january 2011 riot break jimeta prison comple...  acled  \n",
       "15063  Boko Haram  30 july 2009 4 day ongoing uprising radical is...  acled  \n",
       "\n",
       "[4714 rows x 5 columns]"
      ]
     },
     "execution_count": 143,
     "metadata": {},
     "output_type": "execute_result"
    }
   ],
   "source": [
    "acled"
   ]
  },
  {
   "cell_type": "code",
   "execution_count": 144,
   "metadata": {},
   "outputs": [],
   "source": [
    "acled = acled[['tokens', 'boko haram', 'source']]"
   ]
  },
  {
   "cell_type": "code",
   "execution_count": 145,
   "metadata": {},
   "outputs": [
    {
     "data": {
      "text/html": [
       "<div>\n",
       "<style scoped>\n",
       "    .dataframe tbody tr th:only-of-type {\n",
       "        vertical-align: middle;\n",
       "    }\n",
       "\n",
       "    .dataframe tbody tr th {\n",
       "        vertical-align: top;\n",
       "    }\n",
       "\n",
       "    .dataframe thead th {\n",
       "        text-align: right;\n",
       "    }\n",
       "</style>\n",
       "<table border=\"1\" class=\"dataframe\">\n",
       "  <thead>\n",
       "    <tr style=\"text-align: right;\">\n",
       "      <th></th>\n",
       "      <th>tokens</th>\n",
       "      <th>boko haram</th>\n",
       "      <th>source</th>\n",
       "    </tr>\n",
       "  </thead>\n",
       "  <tbody>\n",
       "    <tr>\n",
       "      <th>10350</th>\n",
       "      <td>21 november 2020 ambulance strike ied bosso di...</td>\n",
       "      <td>Boko Haram</td>\n",
       "      <td>acled</td>\n",
       "    </tr>\n",
       "    <tr>\n",
       "      <th>10351</th>\n",
       "      <td>21 november 2020 suspect iswap boko haram jas ...</td>\n",
       "      <td>Boko Haram</td>\n",
       "      <td>acled</td>\n",
       "    </tr>\n",
       "    <tr>\n",
       "      <th>10352</th>\n",
       "      <td>19 november 2020 military force ambush boko ha...</td>\n",
       "      <td>Boko Haram</td>\n",
       "      <td>acled</td>\n",
       "    </tr>\n",
       "    <tr>\n",
       "      <th>10353</th>\n",
       "      <td>19 november 2020 boko haram fighter kill behea...</td>\n",
       "      <td>Boko Haram</td>\n",
       "      <td>acled</td>\n",
       "    </tr>\n",
       "    <tr>\n",
       "      <th>10354</th>\n",
       "      <td>looting 19 november 2020 suspect boko haram fi...</td>\n",
       "      <td>Boko Haram</td>\n",
       "      <td>acled</td>\n",
       "    </tr>\n",
       "    <tr>\n",
       "      <th>...</th>\n",
       "      <td>...</td>\n",
       "      <td>...</td>\n",
       "      <td>...</td>\n",
       "    </tr>\n",
       "    <tr>\n",
       "      <th>15059</th>\n",
       "      <td>28 april military force capture fulani suspect...</td>\n",
       "      <td>Boko Haram</td>\n",
       "      <td>acled</td>\n",
       "    </tr>\n",
       "    <tr>\n",
       "      <th>15060</th>\n",
       "      <td>25 april fulanis attack tse umenge mbadwen cou...</td>\n",
       "      <td>Boko Haram</td>\n",
       "      <td>acled</td>\n",
       "    </tr>\n",
       "    <tr>\n",
       "      <th>15061</th>\n",
       "      <td>24 april fulanis attack tse umenge mbadwen cou...</td>\n",
       "      <td>Boko Haram</td>\n",
       "      <td>acled</td>\n",
       "    </tr>\n",
       "    <tr>\n",
       "      <th>15062</th>\n",
       "      <td>4 january 2011 riot break jimeta prison comple...</td>\n",
       "      <td>Boko Haram</td>\n",
       "      <td>acled</td>\n",
       "    </tr>\n",
       "    <tr>\n",
       "      <th>15063</th>\n",
       "      <td>30 july 2009 4 day ongoing uprising radical is...</td>\n",
       "      <td>Boko Haram</td>\n",
       "      <td>acled</td>\n",
       "    </tr>\n",
       "  </tbody>\n",
       "</table>\n",
       "<p>4714 rows × 3 columns</p>\n",
       "</div>"
      ],
      "text/plain": [
       "                                                  tokens  boko haram source\n",
       "10350  21 november 2020 ambulance strike ied bosso di...  Boko Haram  acled\n",
       "10351  21 november 2020 suspect iswap boko haram jas ...  Boko Haram  acled\n",
       "10352  19 november 2020 military force ambush boko ha...  Boko Haram  acled\n",
       "10353  19 november 2020 boko haram fighter kill behea...  Boko Haram  acled\n",
       "10354  looting 19 november 2020 suspect boko haram fi...  Boko Haram  acled\n",
       "...                                                  ...         ...    ...\n",
       "15059  28 april military force capture fulani suspect...  Boko Haram  acled\n",
       "15060  25 april fulanis attack tse umenge mbadwen cou...  Boko Haram  acled\n",
       "15061  24 april fulanis attack tse umenge mbadwen cou...  Boko Haram  acled\n",
       "15062  4 january 2011 riot break jimeta prison comple...  Boko Haram  acled\n",
       "15063  30 july 2009 4 day ongoing uprising radical is...  Boko Haram  acled\n",
       "\n",
       "[4714 rows x 3 columns]"
      ]
     },
     "execution_count": 145,
     "metadata": {},
     "output_type": "execute_result"
    }
   ],
   "source": [
    "acled"
   ]
  },
  {
   "cell_type": "code",
   "execution_count": 147,
   "metadata": {},
   "outputs": [],
   "source": [
    "final_data_bh = pd.concat([acled, v3_combined])"
   ]
  },
  {
   "cell_type": "code",
   "execution_count": 148,
   "metadata": {},
   "outputs": [
    {
     "name": "stdout",
     "output_type": "stream",
     "text": [
      "<class 'pandas.core.frame.DataFrame'>\n",
      "Int64Index: 57408 entries, 10350 to 8181\n",
      "Data columns (total 3 columns):\n",
      " #   Column      Non-Null Count  Dtype \n",
      "---  ------      --------------  ----- \n",
      " 0   tokens      57391 non-null  object\n",
      " 1   boko haram  57360 non-null  object\n",
      " 2   source      57408 non-null  object\n",
      "dtypes: object(3)\n",
      "memory usage: 1.8+ MB\n"
     ]
    }
   ],
   "source": [
    "final_data_bh.info()"
   ]
  },
  {
   "cell_type": "code",
   "execution_count": 150,
   "metadata": {},
   "outputs": [
    {
     "data": {
      "text/plain": [
       "450"
      ]
     },
     "execution_count": 150,
     "metadata": {},
     "output_type": "execute_result"
    }
   ],
   "source": [
    "final_data_bh.duplicated(subset=['tokens']).sum()"
   ]
  },
  {
   "cell_type": "code",
   "execution_count": 151,
   "metadata": {},
   "outputs": [],
   "source": [
    "final_data_bh.drop_duplicates(subset=['tokens'], inplace = True)"
   ]
  },
  {
   "cell_type": "code",
   "execution_count": 153,
   "metadata": {},
   "outputs": [
    {
     "data": {
      "text/plain": [
       "nst_complete_syn_repl         26323\n",
       "nst                           10334\n",
       "acled                          4324\n",
       "nst_no_bh_augment_word_net     3437\n",
       "nst_aug_syn_repl_level_2       3316\n",
       "nst_syn_repl                   3316\n",
       "nst_aug_word_net               3314\n",
       "nst_no_bh_syn_repl             2594\n",
       "Name: source, dtype: int64"
      ]
     },
     "execution_count": 153,
     "metadata": {},
     "output_type": "execute_result"
    }
   ],
   "source": [
    "final_data_bh['source'].value_counts()"
   ]
  },
  {
   "cell_type": "code",
   "execution_count": 155,
   "metadata": {},
   "outputs": [
    {
     "data": {
      "text/plain": [
       "Boko Haram    30850\n",
       "None          26101\n",
       "Name: boko haram, dtype: int64"
      ]
     },
     "execution_count": 155,
     "metadata": {},
     "output_type": "execute_result"
    }
   ],
   "source": [
    "final_data_bh['boko haram'].value_counts()"
   ]
  },
  {
   "cell_type": "code",
   "execution_count": 156,
   "metadata": {},
   "outputs": [],
   "source": [
    "final_data_bh.to_csv('final_nst_acled_augmented_data_12.18.20.csv')"
   ]
  },
  {
   "cell_type": "code",
   "execution_count": null,
   "metadata": {},
   "outputs": [],
   "source": []
  }
 ],
 "metadata": {
  "kernelspec": {
   "display_name": "tf23_v2",
   "language": "python",
   "name": "tf23_v2"
  },
  "language_info": {
   "codemirror_mode": {
    "name": "ipython",
    "version": 3
   },
   "file_extension": ".py",
   "mimetype": "text/x-python",
   "name": "python",
   "nbconvert_exporter": "python",
   "pygments_lexer": "ipython3",
   "version": "3.8.3"
  }
 },
 "nbformat": 4,
 "nbformat_minor": 4
}
